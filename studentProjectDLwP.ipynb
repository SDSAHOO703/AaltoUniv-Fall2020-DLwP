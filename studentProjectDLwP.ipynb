{
 "cells": [
  {
   "cell_type": "markdown",
   "metadata": {
    "id": "zJUyHwGZ_8c0"
   },
   "source": [
    "# Evaluation of Performances of Artificial Neural Networks with Three Different Hidden-Layer Activation Functions in Improving the Prediction of Outcome of Bank Telemarketing"
   ]
  },
  {
   "cell_type": "markdown",
   "metadata": {
    "id": "CWd9Ui0U_8c1"
   },
   "source": [
    "## Introduction"
   ]
  },
  {
   "cell_type": "markdown",
   "metadata": {
    "id": "FExGBVou_8c6"
   },
   "source": [
    "Bank telemarketing gained a lot of currency in the years succeeding $2008$, when the world witnessed the first of its economic recessions in the $21^{\\text{st}}$ century[[1]](https://www.sciencedirect.com/science/article/abs/pii/S016792361400061X). During such bank telemarketing campaigns, usually the bank representatives would ring up those customers who are more likely to open long-term fixed deposit accounts with banks and try to convince them to do the same by presenting cogent reasons. This would be a win-win situation for both the bank as well as the customers: the bank would mint profit from such long-term fixed deposits and the customers would be assured of their financial security. \n",
    "\n",
    "To-day, with the entire world still grappling with CoVID-$19$ pandemic, there is a huge possibility that bank telemarketing is going to become popular simply because the global economy has again gone haywire due to the recession brought about by the pandemic. The customers are more likely to put money in long-term fixed deposit accounts so that they can remain assured of their financial stability. As a result, the banks can also hatch profits by providing such services to the customers. \n",
    "\n",
    "In this mini-investigation, a bank telemarketing dataset, collected by a Portugese bank between $2008$ and $2013$, has been used to predict the outcome of future bank telemarketing campaigns, purely by data-driven approach. The entire dataset originally consisted of $41188$ `datapoints` and $150$ `features`. After employing a rather simple feature selection and feature engineering algorithm[[1]](https://www.sciencedirect.com/science/article/abs/pii/S016792361400061X), the number of `features` could be brought down to just $20$. The dataset is available in [UCI Machine Learning Repository](https://archive.ics.uci.edu/ml/datasets/bank+marketing). \n",
    "\n",
    "The rest of the  notebook is organized as follows:\n",
    "* **Problem Formulation**: A precise description of the datapoints, features and labels of the bank telemarketing dataset is provided in this section. Moreover, a brief description of the metrics used for proper evaluation of the results, obtained by employing Artificial Neural Network with $3$ different hidden-layer activation functions, has also been provided.  \n",
    "* **Methods**: A much more thorough description of the dataset, alongwith its features and labels, is presented in this section. The bank telemarketing dataset used in this project does contain some categorical features which need to be encoded. The features also need to be scaled in order to obtain a Gaussian distribution with zero mean and unit standard deviation. A brief description of these data pre-processing methods are also provided in this section. Furthermore, the Artificial Neural Network with $3$ different hidden-layer activation functions are discussed in sufficient details for the ease of comprehension of the readers. \n",
    "* **Results**: This is the final section of the notebook. Over here, the results obtained by deploying the models trained on Artificial Neural Networks with $3$ different hidden-layer activation functions on the test dataset are visualized, analyzed and critically discussed. This section also allows the readers to gain insight into the inferences drawn from the results and they get to know the logic behind the author's choice of the best Artificial Neural Network model for the given bank telemarketing dataset.  "
   ]
  },
  {
   "cell_type": "markdown",
   "metadata": {
    "id": "SyJ011FT_8c6"
   },
   "source": [
    "## Problem Formulation"
   ]
  },
  {
   "cell_type": "markdown",
   "metadata": {
    "id": "Urpd1Ox7_8c_"
   },
   "source": [
    "### Dataset"
   ]
  },
  {
   "cell_type": "markdown",
   "metadata": {
    "id": "R1qi4LWH_8dA"
   },
   "source": [
    "The dataset used for this project is a bank telemarketing dataset, which has been taken from [UCI Machine Learning Repository](https://archive.ics.uci.edu/ml/datasets/bank+marketing). The dataset consists of $41188$ `datapoints` and $20$ `features`. This is a dataset for binary classification purposes, so it contains $2$ unique `labels` or `classes`. \n",
    "\n",
    "Artificial Neural Network algorithm has been used in order to determine whether a particular customer is going to open a long-term fixed deposit account in a bank, following a rigorous telemarketing campaign from the same bank. Such a data-driven approach to determine the outcome of a telemarketing campaign by utlizing previously collected data is essential for the bank because:\n",
    "1. The bank representatives would be more informed about the outcome before they start ringing up potential customers interested in opening fixed-deposit accounts with the bank\n",
    "2. They can channelize their precious time in doing something productive rather than calling up potentially disinterested customers and wasting their own valuable time \n",
    "\n",
    "Before the dataset can be fetched, some compulsory libraries, modules and classes need to be imported for ease of using Artificial Neural Network algorithm and carrying out a number of operations in this notebook. "
   ]
  },
  {
   "cell_type": "markdown",
   "metadata": {
    "id": "FcM0OMLc_8dg"
   },
   "source": [
    "### Import the Mandatory Libraries"
   ]
  },
  {
   "cell_type": "code",
   "execution_count": 1,
   "metadata": {
    "id": "qknVz3IC_8dg"
   },
   "outputs": [],
   "source": [
    "### Coding Cell 001\n",
    "\n",
    "# Importing libraries compulsory for the entire notebook \n",
    "import numpy as np   \n",
    "import matplotlib.pyplot as plt   \n",
    "import seaborn as sns\n",
    "import pandas as pd   \n",
    "import tensorflow  \n",
    "import itertools\n",
    "import sys\n",
    "import warnings\n",
    "\n",
    "# Some other compulsory things\n",
    "from numpy.random import seed\n",
    "seed(0)\n",
    "tensorflow.random.set_seed(0)\n",
    "warnings.simplefilter(\"ignore\")\n",
    "warnings.filterwarnings(\"ignore\")"
   ]
  },
  {
   "cell_type": "markdown",
   "metadata": {
    "id": "dgweS7Wa_8d5"
   },
   "source": [
    "### Import the Dataset"
   ]
  },
  {
   "cell_type": "markdown",
   "metadata": {
    "id": "htqd17NTkr1j"
   },
   "source": [
    "It is time to import the dataset which contains $41188$ datapoints and $20$ features. "
   ]
  },
  {
   "cell_type": "code",
   "execution_count": 2,
   "metadata": {
    "colab": {
     "base_uri": "https://localhost:8080/"
    },
    "executionInfo": {
     "elapsed": 45942,
     "status": "ok",
     "timestamp": 1605706546510,
     "user": {
      "displayName": "Subhadyuti Sahoo",
      "photoUrl": "https://lh3.googleusercontent.com/a-/AOh14Gggzyrj_lwU3EpxrDzpC0PCj0Tq81bUp15E8Iwr=s64",
      "userId": "09318899015774862526"
     },
     "user_tz": -330
    },
    "id": "DveVJbk7_8eB",
    "outputId": "a2329c86-ac7f-428d-f0e8-75d0770d2237"
   },
   "outputs": [
    {
     "name": "stdout",
     "output_type": "stream",
     "text": [
      "Total number of (datapoints, features): (41188, 20)\n",
      "Total number of unique labels: 2\n"
     ]
    }
   ],
   "source": [
    "### Coding Cell 002\n",
    "\n",
    "# Importing the dataset\n",
    "featureMatrix = pd.read_csv('bankTelemarketingFeatureMatrix.csv') \n",
    "labelVector = pd.read_csv('bankTelemarketingLabels.csv') \n",
    "\n",
    "# Creating feature matrix and label vector\n",
    "X = featureMatrix.values   \n",
    "y = labelVector.values.reshape(-1,1)   \n",
    "\n",
    "# Creating eye-pleasing versions of feature matrix and label vector\n",
    "X_better = pd.DataFrame(featureMatrix)   \n",
    "y_better = pd.DataFrame(labelVector)  \n",
    "\n",
    "# Displaying the number of datapoints, features and labels\n",
    "print(f'Total number of (datapoints, features): {X.shape}')\n",
    "print(f'Total number of unique labels: {np.unique(y).shape[0]}')"
   ]
  },
  {
   "cell_type": "markdown",
   "metadata": {
    "id": "TggooEfL_8dG"
   },
   "source": [
    "### Datapoints"
   ]
  },
  {
   "cell_type": "markdown",
   "metadata": {
    "id": "vnVjN_Lt_8dK"
   },
   "source": [
    "The datapoints are basically the `customers` who were contacted during telemarketing campaign by a bank in Portugal between $2008$ and $2013$: the years succeeding the first of the global recessions in the $21^{\\text{st}}$ century. A total of $41188$ customers were contacted during the aforementioned period and details regarding their `AgeInYears`, `JobType`, `MaritalStatus`, `EducationalQualification` --- to cite a few --- were recorded for future investigations with data-driven approaches."
   ]
  },
  {
   "cell_type": "markdown",
   "metadata": {
    "id": "7YGYRmox_8dL"
   },
   "source": [
    "### Features"
   ]
  },
  {
   "cell_type": "markdown",
   "metadata": {
    "id": "GVb_3lXx_8dQ"
   },
   "source": [
    "The bank telemarketing dataset consists of $20$ features. Some of these features are `categorical`, while the rest of them are `numeric`. A brief description of all the $20$ features are depicted in the figure below. \n",
    "\n",
    "<img src=\"featureDescriptionTable.png\" width=\"700\">\n"
   ]
  },
  {
   "cell_type": "markdown",
   "metadata": {
    "id": "_bXIdkhR1qoY"
   },
   "source": [
    "#### Outcomes with regard to the customers' Age"
   ]
  },
  {
   "cell_type": "markdown",
   "metadata": {
    "id": "SonjMJR-Rj54"
   },
   "source": [
    "Now, let us take a look at those persons, from different `age groups`, who said either a `yes` or a `no` to the previous telemarketing campaign. Such categorization can give a clear picture to the bank employees about whom to contact. "
   ]
  },
  {
   "cell_type": "code",
   "execution_count": 3,
   "metadata": {
    "colab": {
     "base_uri": "https://localhost:8080/",
     "height": 203
    },
    "executionInfo": {
     "elapsed": 48328,
     "status": "ok",
     "timestamp": 1605706548914,
     "user": {
      "displayName": "Subhadyuti Sahoo",
      "photoUrl": "https://lh3.googleusercontent.com/a-/AOh14Gggzyrj_lwU3EpxrDzpC0PCj0Tq81bUp15E8Iwr=s64",
      "userId": "09318899015774862526"
     },
     "user_tz": -330
    },
    "id": "Us1_HpkN1wy4",
    "outputId": "f403c4be-c05f-49de-aeb8-7dd7dda9a821"
   },
   "outputs": [
    {
     "name": "stdout",
     "output_type": "stream",
     "text": [
      "\n",
      "Outcomes with regard to the Age of the customers\n"
     ]
    },
    {
     "data": {
      "text/html": [
       "<div>\n",
       "<style scoped>\n",
       "    .dataframe tbody tr th:only-of-type {\n",
       "        vertical-align: middle;\n",
       "    }\n",
       "\n",
       "    .dataframe tbody tr th {\n",
       "        vertical-align: top;\n",
       "    }\n",
       "\n",
       "    .dataframe thead th {\n",
       "        text-align: right;\n",
       "    }\n",
       "</style>\n",
       "<table border=\"1\" class=\"dataframe\">\n",
       "  <thead>\n",
       "    <tr style=\"text-align: right;\">\n",
       "      <th></th>\n",
       "      <th>Total Count</th>\n",
       "      <th>No</th>\n",
       "      <th>Yes</th>\n",
       "    </tr>\n",
       "  </thead>\n",
       "  <tbody>\n",
       "    <tr>\n",
       "      <th>&lt; 25 yrs</th>\n",
       "      <td>1068</td>\n",
       "      <td>812</td>\n",
       "      <td>256</td>\n",
       "    </tr>\n",
       "    <tr>\n",
       "      <th>25 - 40 yrs</th>\n",
       "      <td>22700</td>\n",
       "      <td>20235</td>\n",
       "      <td>2465</td>\n",
       "    </tr>\n",
       "    <tr>\n",
       "      <th>41 - 60 yrs</th>\n",
       "      <td>16510</td>\n",
       "      <td>15005</td>\n",
       "      <td>1505</td>\n",
       "    </tr>\n",
       "    <tr>\n",
       "      <th>&gt; 60 yrs</th>\n",
       "      <td>910</td>\n",
       "      <td>496</td>\n",
       "      <td>414</td>\n",
       "    </tr>\n",
       "  </tbody>\n",
       "</table>\n",
       "</div>"
      ],
      "text/plain": [
       "             Total Count     No   Yes\n",
       "< 25 yrs            1068    812   256\n",
       "25 - 40 yrs        22700  20235  2465\n",
       "41 - 60 yrs        16510  15005  1505\n",
       "> 60 yrs             910    496   414"
      ]
     },
     "metadata": {},
     "output_type": "display_data"
    }
   ],
   "source": [
    "# Coding Cell 003\n",
    "\n",
    "# Importing the libraries, modules and classes necessary for this cell\n",
    "from itertools import cycle, islice\n",
    "\n",
    "# Creating a category with the customers' ages\n",
    "ageList = ['< 25 yrs', '25 - 40 yrs', '41 - 60 yrs', '> 60 yrs']\n",
    "\n",
    "# Getting the indices\n",
    "idx001 = np.where(X[:, 0] < 25)\n",
    "idx002 = np.where((X[:, 0] >= 25) & (X[:, 0] <= 40))\n",
    "idx003 = np.where((X[:, 0] > 40) & (X[:, 0] <= 60))\n",
    "idx004 = np.where(X[:, 0] > 60)\n",
    "\n",
    "# Calculating the total no. of categories and forming a pandas dataframe\n",
    "ageCategories = np.array([idx001[0].shape[0], idx002[0].shape[0], \n",
    "                          idx003[0].shape[0], idx004[0].shape[0]])\n",
    "ageCategories = ageCategories.reshape(-1,1)\n",
    "ageCategories_df = pd.DataFrame({'Total Count': ageCategories[:, 0]},\n",
    "                                index = ageList)\n",
    "\n",
    "# Calculating the total no. of \"No\" and \"Yes\"\n",
    "resultsList = []\n",
    "yVal001 = y[idx001[0]]\n",
    "yVal002 = y[idx002[0]]\n",
    "yVal003 = y[idx003[0]]\n",
    "yVal004 = y[idx004[0]]\n",
    "yNo001 = (yVal001 == 0).sum()\n",
    "yYes001 = np.count_nonzero(yVal001 == 1)\n",
    "yNo002 = (yVal002 == 0).sum()\n",
    "yYes002 = np.count_nonzero(yVal002 == 1)\n",
    "yNo003 = (yVal003 == 0).sum()\n",
    "yYes003 = np.count_nonzero(yVal003 == 1)\n",
    "yNo004 = (yVal004 == 0).sum()\n",
    "yYes004 = np.count_nonzero(yVal004 == 1)\n",
    "ageOutcomes = np.array([[yNo001, yYes001],\n",
    "                       [yNo002, yYes002],\n",
    "                       [yNo003, yYes003],\n",
    "                       [yNo004, yYes004]])\n",
    "ageOutcomes_df = pd.DataFrame({'No': ageOutcomes[:, 0],\n",
    "                               'Yes': ageOutcomes[:, 1]},\n",
    "                              index = ageList)\n",
    "\n",
    "# Creating a pandas dataframe in order to visualize the outcomes age group-wise\n",
    "age_df = pd.DataFrame({'Total Count': ageCategories[:, 0],\n",
    "                       'No': ageOutcomes[:, 0],\n",
    "                       'Yes': ageOutcomes[:, 1]},\n",
    "                      index = ageList)\n",
    "\n",
    "# Displaying the outcomes\n",
    "print('\\nOutcomes with regard to the Age of the customers')\n",
    "display(age_df)"
   ]
  },
  {
   "cell_type": "markdown",
   "metadata": {
    "id": "yvAvugN358dI"
   },
   "source": [
    "We find that almost $45\\%$ from the age group of `> 60 yrs` said `yes` to long-term fixed deposit accounts. It is quite expected because people from this age group are generally more concerned about their financial stability than people from the other age groups. "
   ]
  },
  {
   "cell_type": "markdown",
   "metadata": {
    "id": "9xXVpKoDr59e"
   },
   "source": [
    "#### Outcomes with regard to the customers' Job Type"
   ]
  },
  {
   "cell_type": "markdown",
   "metadata": {
    "id": "3T52jJ6GVyLo"
   },
   "source": [
    "Now, we would also like to take a look at how people with different `job types` responded to the bank telemarketing campaign on opening of fixed-term deposit accounts. \n",
    "\n",
    "Two user-defined functions, such as `get_category_occurrences` and `get_outcomes` are created in order to make the task of segregating the outcomes according to a number of categories way easier. "
   ]
  },
  {
   "cell_type": "code",
   "execution_count": 4,
   "metadata": {
    "id": "giKu6RUriVMb"
   },
   "outputs": [],
   "source": [
    "# Coding Cell 004\n",
    "\n",
    "# Creating a User-Defined Function which returns the no. of occurrences of a \n",
    "# category in a list\n",
    "def get_category_occurrences(X_, list_, col_):\n",
    "  \"\"\"\n",
    "  Returns the number of occurrences of a particular category\n",
    "\n",
    "  Args:\n",
    "    X_ (matrix, shape = [n, d]): Feature matrix\n",
    "    list_ (list): List of names of all categories\n",
    "    col_ (scalar): The feature of interest\n",
    "  \"\"\"\n",
    "\n",
    "  # Creating an empty list to store the no. of occurrences of a \n",
    "  # category in a given list\n",
    "  category_occurrences_ = []\n",
    "\n",
    "  # Calculating the no. of occurrences of a category in a given list\n",
    "  for i in range(len(list_)):\n",
    "    indicesOfList_ = np.where(X_[:, col_] == list_[i])\n",
    "    indices_ = indicesOfList_[0]\n",
    "    sum_ = indices_.shape[0]\n",
    "    category_occurrences_.append(sum_)\n",
    "\n",
    "  # Return the no. of occurrences of a category in a given list\n",
    "  category_occurrences_ = np.asarray(category_occurrences_).reshape(-1,1)\n",
    "  return category_occurrences_"
   ]
  },
  {
   "cell_type": "code",
   "execution_count": 5,
   "metadata": {
    "id": "-QlBuTtjKklQ"
   },
   "outputs": [],
   "source": [
    "# Coding Cell 005\n",
    "\n",
    "# Creating a User-Defined Function for Returning the Total Occurrences \n",
    "# of \"No\" and \"Yes\"\n",
    "def get_outcomes(X_, y_, list_, col_):\n",
    "  \"\"\"\n",
    "  Returns the outcome against a particular category\n",
    "\n",
    "  Args:\n",
    "    X_ (matrix, shape = [n, d]): Feature matrix\n",
    "    y_ (vector, shape = [n, 1]): Label vector\n",
    "    list_ (list): List of names of all categories\n",
    "    col_ (scalar): The feature of interest\n",
    "  \"\"\"\n",
    "\n",
    "  # Creating an empty list to store the total occurrences of \"No\" and \"Yes\" \n",
    "  outcomes_ = []\n",
    "\n",
    "  # Calculating the total occurences of \"No\" and \"Yes\" for a given list\n",
    "  for i in range(len(list_)):\n",
    "    indicesOfList_ = np.where(X_[:, col_] == list_[i])\n",
    "    indices_ = indicesOfList_[0]\n",
    "    yValues_ = y_[indices_]\n",
    "    yNo_ = (yValues_ == 0).sum() \n",
    "    yYes_ = np.count_nonzero(yValues_ == 1)\n",
    "    outcomes_.append(np.array([yNo_, yYes_]))\n",
    "\n",
    "  # Returning total occurrences of \"No\" and \"Yes\"\n",
    "  outcomes_ = np.asarray(outcomes_)\n",
    "  return outcomes_"
   ]
  },
  {
   "cell_type": "code",
   "execution_count": 6,
   "metadata": {
    "colab": {
     "base_uri": "https://localhost:8080/",
     "height": 445
    },
    "executionInfo": {
     "elapsed": 48308,
     "status": "ok",
     "timestamp": 1605706548921,
     "user": {
      "displayName": "Subhadyuti Sahoo",
      "photoUrl": "https://lh3.googleusercontent.com/a-/AOh14Gggzyrj_lwU3EpxrDzpC0PCj0Tq81bUp15E8Iwr=s64",
      "userId": "09318899015774862526"
     },
     "user_tz": -330
    },
    "id": "1rw97Zt6Wluc",
    "outputId": "096b6396-e3f1-4ca9-d921-3ae2260f7418"
   },
   "outputs": [
    {
     "name": "stdout",
     "output_type": "stream",
     "text": [
      "\n",
      "Outcomes with regard to the Job Type of the customers\n"
     ]
    },
    {
     "data": {
      "text/html": [
       "<div>\n",
       "<style scoped>\n",
       "    .dataframe tbody tr th:only-of-type {\n",
       "        vertical-align: middle;\n",
       "    }\n",
       "\n",
       "    .dataframe tbody tr th {\n",
       "        vertical-align: top;\n",
       "    }\n",
       "\n",
       "    .dataframe thead th {\n",
       "        text-align: right;\n",
       "    }\n",
       "</style>\n",
       "<table border=\"1\" class=\"dataframe\">\n",
       "  <thead>\n",
       "    <tr style=\"text-align: right;\">\n",
       "      <th></th>\n",
       "      <th>Total Count</th>\n",
       "      <th>No</th>\n",
       "      <th>Yes</th>\n",
       "    </tr>\n",
       "  </thead>\n",
       "  <tbody>\n",
       "    <tr>\n",
       "      <th>unknown</th>\n",
       "      <td>330</td>\n",
       "      <td>293</td>\n",
       "      <td>37</td>\n",
       "    </tr>\n",
       "    <tr>\n",
       "      <th>unemployed</th>\n",
       "      <td>1014</td>\n",
       "      <td>870</td>\n",
       "      <td>144</td>\n",
       "    </tr>\n",
       "    <tr>\n",
       "      <th>student</th>\n",
       "      <td>875</td>\n",
       "      <td>600</td>\n",
       "      <td>275</td>\n",
       "    </tr>\n",
       "    <tr>\n",
       "      <th>housemaid</th>\n",
       "      <td>1060</td>\n",
       "      <td>954</td>\n",
       "      <td>106</td>\n",
       "    </tr>\n",
       "    <tr>\n",
       "      <th>technician</th>\n",
       "      <td>6743</td>\n",
       "      <td>6013</td>\n",
       "      <td>730</td>\n",
       "    </tr>\n",
       "    <tr>\n",
       "      <th>services</th>\n",
       "      <td>3969</td>\n",
       "      <td>3646</td>\n",
       "      <td>323</td>\n",
       "    </tr>\n",
       "    <tr>\n",
       "      <th>blue-collar</th>\n",
       "      <td>9254</td>\n",
       "      <td>8616</td>\n",
       "      <td>638</td>\n",
       "    </tr>\n",
       "    <tr>\n",
       "      <th>management</th>\n",
       "      <td>2924</td>\n",
       "      <td>2596</td>\n",
       "      <td>328</td>\n",
       "    </tr>\n",
       "    <tr>\n",
       "      <th>admin.</th>\n",
       "      <td>10422</td>\n",
       "      <td>9070</td>\n",
       "      <td>1352</td>\n",
       "    </tr>\n",
       "    <tr>\n",
       "      <th>entrepreneur</th>\n",
       "      <td>1456</td>\n",
       "      <td>1332</td>\n",
       "      <td>124</td>\n",
       "    </tr>\n",
       "    <tr>\n",
       "      <th>self-employed</th>\n",
       "      <td>1421</td>\n",
       "      <td>1272</td>\n",
       "      <td>149</td>\n",
       "    </tr>\n",
       "    <tr>\n",
       "      <th>retired</th>\n",
       "      <td>1720</td>\n",
       "      <td>1286</td>\n",
       "      <td>434</td>\n",
       "    </tr>\n",
       "  </tbody>\n",
       "</table>\n",
       "</div>"
      ],
      "text/plain": [
       "               Total Count    No   Yes\n",
       "unknown                330   293    37\n",
       "unemployed            1014   870   144\n",
       "student                875   600   275\n",
       "housemaid             1060   954   106\n",
       "technician            6743  6013   730\n",
       "services              3969  3646   323\n",
       "blue-collar           9254  8616   638\n",
       "management            2924  2596   328\n",
       "admin.               10422  9070  1352\n",
       "entrepreneur          1456  1332   124\n",
       "self-employed         1421  1272   149\n",
       "retired               1720  1286   434"
      ]
     },
     "metadata": {},
     "output_type": "display_data"
    }
   ],
   "source": [
    "# Coding Cell 006\n",
    "\n",
    "# Importing the libraries, modules and classes necessary for this cell\n",
    "from itertools import cycle, islice\n",
    "\n",
    "# Creating the lists\n",
    "jobTypeList = ['unknown', 'unemployed', 'student', 'housemaid',\n",
    "               'technician', 'services', 'blue-collar', 'management',\n",
    "               'admin.', 'entrepreneur', 'self-employed', 'retired']\n",
    "\n",
    "# Calculating the total no. of occurrences of categories\n",
    "jobTypeCategories = get_category_occurrences(X_ = X,\n",
    "                                             list_ = jobTypeList,\n",
    "                                             col_ = 1)\n",
    "jobTypeCat_df = pd.DataFrame({'Total Count': jobTypeCategories[:, 0]},\n",
    "                             index = jobTypeList)\n",
    "\n",
    "# Calculating the total no. of \"No\" and \"Yes\" for each job category\n",
    "jobTypeOutcomes = get_outcomes(X_ = X,\n",
    "                               y_ = y,\n",
    "                               list_ = jobTypeList, \n",
    "                               col_ = 1)\n",
    "jobTypeOutcomes_df = pd.DataFrame({'No': jobTypeOutcomes[:, 0],\n",
    "                                   'Yes': jobTypeOutcomes[:, 1]},\n",
    "                                  index = jobTypeList)\n",
    "\n",
    "# Creating a pandas dataframe in order to visualize the outcome job category-wise\n",
    "jobType_df = pd.DataFrame({'Total Count': jobTypeCategories[:, 0],\n",
    "                           'No': jobTypeOutcomes[:, 0],\n",
    "                           'Yes': jobTypeOutcomes[:, 1]},\n",
    "                          index = jobTypeList)\n",
    "\n",
    "# Displaying the outcomes\n",
    "print('\\nOutcomes with regard to the Job Type of the customers')\n",
    "display(jobType_df)"
   ]
  },
  {
   "cell_type": "markdown",
   "metadata": {
    "id": "ohb02ReduWv6"
   },
   "source": [
    "#### Outcomes with regard to the customers' Marital Status"
   ]
  },
  {
   "cell_type": "markdown",
   "metadata": {
    "id": "Svw0kzTMYaHH"
   },
   "source": [
    "Now, we take a look at the outcome of the bank telemarketing when customers with different `marital status` were contacted.  "
   ]
  },
  {
   "cell_type": "code",
   "execution_count": 7,
   "metadata": {
    "colab": {
     "base_uri": "https://localhost:8080/",
     "height": 203
    },
    "executionInfo": {
     "elapsed": 48302,
     "status": "ok",
     "timestamp": 1605706548924,
     "user": {
      "displayName": "Subhadyuti Sahoo",
      "photoUrl": "https://lh3.googleusercontent.com/a-/AOh14Gggzyrj_lwU3EpxrDzpC0PCj0Tq81bUp15E8Iwr=s64",
      "userId": "09318899015774862526"
     },
     "user_tz": -330
    },
    "id": "S9VuiatSu05z",
    "outputId": "c7528294-e17e-43a5-9217-8321b2315e39"
   },
   "outputs": [
    {
     "name": "stdout",
     "output_type": "stream",
     "text": [
      "\n",
      "Outcomes with regard to the Marital Status of the customers\n"
     ]
    },
    {
     "data": {
      "text/html": [
       "<div>\n",
       "<style scoped>\n",
       "    .dataframe tbody tr th:only-of-type {\n",
       "        vertical-align: middle;\n",
       "    }\n",
       "\n",
       "    .dataframe tbody tr th {\n",
       "        vertical-align: top;\n",
       "    }\n",
       "\n",
       "    .dataframe thead th {\n",
       "        text-align: right;\n",
       "    }\n",
       "</style>\n",
       "<table border=\"1\" class=\"dataframe\">\n",
       "  <thead>\n",
       "    <tr style=\"text-align: right;\">\n",
       "      <th></th>\n",
       "      <th>Total Count</th>\n",
       "      <th>No</th>\n",
       "      <th>Yes</th>\n",
       "    </tr>\n",
       "  </thead>\n",
       "  <tbody>\n",
       "    <tr>\n",
       "      <th>unknown</th>\n",
       "      <td>80</td>\n",
       "      <td>68</td>\n",
       "      <td>12</td>\n",
       "    </tr>\n",
       "    <tr>\n",
       "      <th>single</th>\n",
       "      <td>11568</td>\n",
       "      <td>9948</td>\n",
       "      <td>1620</td>\n",
       "    </tr>\n",
       "    <tr>\n",
       "      <th>married</th>\n",
       "      <td>24928</td>\n",
       "      <td>22396</td>\n",
       "      <td>2532</td>\n",
       "    </tr>\n",
       "    <tr>\n",
       "      <th>divorced</th>\n",
       "      <td>4612</td>\n",
       "      <td>4136</td>\n",
       "      <td>476</td>\n",
       "    </tr>\n",
       "  </tbody>\n",
       "</table>\n",
       "</div>"
      ],
      "text/plain": [
       "          Total Count     No   Yes\n",
       "unknown            80     68    12\n",
       "single          11568   9948  1620\n",
       "married         24928  22396  2532\n",
       "divorced         4612   4136   476"
      ]
     },
     "metadata": {},
     "output_type": "display_data"
    }
   ],
   "source": [
    "# Coding Cell 007\n",
    "\n",
    "# Importing the libraries, modules and classes necessary for this cell\n",
    "from itertools import cycle, islice\n",
    "\n",
    "# Creating a list\n",
    "maritalStatusList = ['unknown', 'single', 'married', 'divorced']\n",
    "\n",
    "# Calculating the total no. of occurrences of categories\n",
    "maritalStatusCategories = get_category_occurrences(X_ = X,\n",
    "                                                   list_ = maritalStatusList,\n",
    "                                                   col_ = 2)\n",
    "marStatCategories_df = pd.DataFrame({'Total Count': maritalStatusCategories[:, 0]},\n",
    "                                    index = maritalStatusList)\n",
    "\n",
    "# Calculating the total no. of \"No\" and \"Yes\" for each marital status category\n",
    "maritalStatusOutcomes = get_outcomes(X_ = X,\n",
    "                                     y_ = y,\n",
    "                                     list_ = maritalStatusList,\n",
    "                                     col_ = 2)\n",
    "marStatOutcomes_df = pd.DataFrame({'No': maritalStatusOutcomes[:, 0],\n",
    "                                   'Yes': maritalStatusOutcomes[:, 1]},\n",
    "                                  index = maritalStatusList)\n",
    "\n",
    "# Creating a pandas dataframe in order to visualize \n",
    "# the outcome marital status category-wise\n",
    "marStat_df = pd.DataFrame({'Total Count': maritalStatusCategories[:, 0],\n",
    "                           'No': maritalStatusOutcomes[:, 0],\n",
    "                           'Yes': maritalStatusOutcomes[:, 1]},\n",
    "                          index = maritalStatusList)\n",
    "\n",
    "# Displaying the outcomes\n",
    "print('\\nOutcomes with regard to the Marital Status of the customers')\n",
    "display(marStat_df)"
   ]
  },
  {
   "cell_type": "markdown",
   "metadata": {
    "id": "IwAJ59MBDNkn"
   },
   "source": [
    "#### Outcomes with regard to the customers' Educational Qualification"
   ]
  },
  {
   "cell_type": "markdown",
   "metadata": {
    "id": "Shn0dnHJY6XJ"
   },
   "source": [
    "And, finally, we take a look at how the people with different `educational qualifications` responded to the bank-telemarketing campaign.\n",
    "\n",
    "It is quite evident from these four categories that people were not quite convinced when it came to opening long-term fixed deposit accounts as negative responses clearly outnumber positive responses. "
   ]
  },
  {
   "cell_type": "code",
   "execution_count": 8,
   "metadata": {
    "colab": {
     "base_uri": "https://localhost:8080/",
     "height": 324
    },
    "executionInfo": {
     "elapsed": 48298,
     "status": "ok",
     "timestamp": 1605706548926,
     "user": {
      "displayName": "Subhadyuti Sahoo",
      "photoUrl": "https://lh3.googleusercontent.com/a-/AOh14Gggzyrj_lwU3EpxrDzpC0PCj0Tq81bUp15E8Iwr=s64",
      "userId": "09318899015774862526"
     },
     "user_tz": -330
    },
    "id": "eCOdoGb68P_Z",
    "outputId": "c21eac20-4180-47f8-e093-93c5e14ee4f7"
   },
   "outputs": [
    {
     "name": "stdout",
     "output_type": "stream",
     "text": [
      "\n",
      "Outcomes with regard to the Educational Qualification of the customers\n"
     ]
    },
    {
     "data": {
      "text/html": [
       "<div>\n",
       "<style scoped>\n",
       "    .dataframe tbody tr th:only-of-type {\n",
       "        vertical-align: middle;\n",
       "    }\n",
       "\n",
       "    .dataframe tbody tr th {\n",
       "        vertical-align: top;\n",
       "    }\n",
       "\n",
       "    .dataframe thead th {\n",
       "        text-align: right;\n",
       "    }\n",
       "</style>\n",
       "<table border=\"1\" class=\"dataframe\">\n",
       "  <thead>\n",
       "    <tr style=\"text-align: right;\">\n",
       "      <th></th>\n",
       "      <th>Total Count</th>\n",
       "      <th>No</th>\n",
       "      <th>Yes</th>\n",
       "    </tr>\n",
       "  </thead>\n",
       "  <tbody>\n",
       "    <tr>\n",
       "      <th>unknown</th>\n",
       "      <td>1731</td>\n",
       "      <td>1480</td>\n",
       "      <td>251</td>\n",
       "    </tr>\n",
       "    <tr>\n",
       "      <th>illiterate</th>\n",
       "      <td>18</td>\n",
       "      <td>14</td>\n",
       "      <td>4</td>\n",
       "    </tr>\n",
       "    <tr>\n",
       "      <th>basic.4y</th>\n",
       "      <td>4176</td>\n",
       "      <td>3748</td>\n",
       "      <td>428</td>\n",
       "    </tr>\n",
       "    <tr>\n",
       "      <th>basic.6y</th>\n",
       "      <td>2292</td>\n",
       "      <td>2104</td>\n",
       "      <td>188</td>\n",
       "    </tr>\n",
       "    <tr>\n",
       "      <th>basic.9y</th>\n",
       "      <td>6045</td>\n",
       "      <td>5572</td>\n",
       "      <td>473</td>\n",
       "    </tr>\n",
       "    <tr>\n",
       "      <th>high.school</th>\n",
       "      <td>9515</td>\n",
       "      <td>8484</td>\n",
       "      <td>1031</td>\n",
       "    </tr>\n",
       "    <tr>\n",
       "      <th>professional.course</th>\n",
       "      <td>5243</td>\n",
       "      <td>4648</td>\n",
       "      <td>595</td>\n",
       "    </tr>\n",
       "    <tr>\n",
       "      <th>university.degree</th>\n",
       "      <td>12168</td>\n",
       "      <td>10498</td>\n",
       "      <td>1670</td>\n",
       "    </tr>\n",
       "  </tbody>\n",
       "</table>\n",
       "</div>"
      ],
      "text/plain": [
       "                     Total Count     No   Yes\n",
       "unknown                     1731   1480   251\n",
       "illiterate                    18     14     4\n",
       "basic.4y                    4176   3748   428\n",
       "basic.6y                    2292   2104   188\n",
       "basic.9y                    6045   5572   473\n",
       "high.school                 9515   8484  1031\n",
       "professional.course         5243   4648   595\n",
       "university.degree          12168  10498  1670"
      ]
     },
     "metadata": {},
     "output_type": "display_data"
    }
   ],
   "source": [
    "# Coding Cell 008\n",
    "\n",
    "# Importing the libraries, modules and classes necessary for this cell\n",
    "from itertools import cycle, islice\n",
    "\n",
    "# Creating a list\n",
    "educationalQualificationList = ['unknown', 'illiterate', 'basic.4y', \n",
    "                                'basic.6y', 'basic.9y', 'high.school', \n",
    "                                'professional.course', 'university.degree']\n",
    "\n",
    "# Calculating the total no. of occurrences of categories\n",
    "edQualCategories = get_category_occurrences(X_ = X,\n",
    "                                            list_ = educationalQualificationList,\n",
    "                                            col_ = 3)\n",
    "edQualCat_df = pd.DataFrame({'Total Count': edQualCategories[:, 0]},\n",
    "                            index = educationalQualificationList)\n",
    "\n",
    "# Calculating the total no. of \"No\" and \"Yes\" for each \n",
    "# educational qualification category\n",
    "educationQualificationOutcomes = get_outcomes(X_ = X,\n",
    "                                              y_ = y,\n",
    "                                              list_ = educationalQualificationList, \n",
    "                                              col_ = 3)\n",
    "edQualOutcomes_df = pd.DataFrame({'No': educationQualificationOutcomes[:, 0],\n",
    "                                  'Yes': educationQualificationOutcomes[:, 1]},\n",
    "                                 index = educationalQualificationList)\n",
    "\n",
    "# Creating a pandas dataframe in order to visualize \n",
    "# the outcome educational qualification category-wise\n",
    "edQual_df = pd.DataFrame({'Total Count': edQualCategories[:, 0],\n",
    "                          'No': educationQualificationOutcomes[:, 0],\n",
    "                          'Yes': educationQualificationOutcomes[:, 1]},\n",
    "                         index = educationalQualificationList)\n",
    "\n",
    "# Displaying the outcomes\n",
    "print('\\nOutcomes with regard to the Educational Qualification of the customers')\n",
    "display(edQual_df)"
   ]
  },
  {
   "cell_type": "markdown",
   "metadata": {
    "id": "9qOa4v9W_8dS"
   },
   "source": [
    "### Labels"
   ]
  },
  {
   "cell_type": "markdown",
   "metadata": {
    "id": "ku-zJtfo_8dX"
   },
   "source": [
    "The bank telemarketing dataset contains only $2$ `unique` labels or classes --- `No` and `Yes`. "
   ]
  },
  {
   "cell_type": "code",
   "execution_count": 9,
   "metadata": {
    "colab": {
     "base_uri": "https://localhost:8080/"
    },
    "executionInfo": {
     "elapsed": 48295,
     "status": "ok",
     "timestamp": 1605706548928,
     "user": {
      "displayName": "Subhadyuti Sahoo",
      "photoUrl": "https://lh3.googleusercontent.com/a-/AOh14Gggzyrj_lwU3EpxrDzpC0PCj0Tq81bUp15E8Iwr=s64",
      "userId": "09318899015774862526"
     },
     "user_tz": -330
    },
    "id": "F3_cxa3BLacb",
    "outputId": "ef059ae8-7114-4142-9313-d87c04897e4e"
   },
   "outputs": [
    {
     "name": "stdout",
     "output_type": "stream",
     "text": [
      "Class Value \t Outcome Category\n",
      "0 \t\t No\n",
      "1 \t\t Yes\n"
     ]
    }
   ],
   "source": [
    "# Coding Cell 009\n",
    "\n",
    "# Defining the class and label names\n",
    "class_names = [\"No\", \"Yes\"]\n",
    "label_names = ['No', 'Yes']\n",
    "\n",
    "# Defining the unique labels\n",
    "uniqueLabels = [0, 1]\n",
    "\n",
    "# Display numeric labels and corresponding label names\n",
    "print('Class Value \\t Outcome Category')\n",
    "for uniqueLabels, class_names in zip(uniqueLabels, class_names):\n",
    "    print (f'{uniqueLabels} \\t\\t {class_names}')"
   ]
  },
  {
   "cell_type": "markdown",
   "metadata": {
    "id": "KbfJG2Ai_8dX"
   },
   "source": [
    "### Metrics "
   ]
  },
  {
   "cell_type": "markdown",
   "metadata": {
    "id": "W3i4THxv_8db"
   },
   "source": [
    "`Accuracy` is the metric used for determining the quality of the models trained on Artificial Neural Network with $3$ different hidden-layer activation functions. \n",
    "\n",
    "We shall like to train those Artificial Neural Networks on the `training` dataset and obtain both the accuracy as well as the average losses on the `validation` dataset. We must aim for the increase in the accuracy with each epoch for models applied on unseen datasets (`validation` and `test`). Higher the accuracy on these datasets, the better the prediction of outcomes. \n",
    "\n",
    "Previously, the deployment of machine learning methods, such as Logistic Regression, Decision Trees and Support Vector Machines, on this very dataset yielded an accuracy of only $76\\%$[[1]](https://www.sciencedirect.com/science/article/abs/pii/S016792361400061X). The **target** in this investigation is to obtain an accuracy of, at least, $85\\%$ with the Artificial Neural Network algorithm. "
   ]
  },
  {
   "cell_type": "markdown",
   "metadata": {
    "id": "LnqGHH7D_8dc"
   },
   "source": [
    "## Methods"
   ]
  },
  {
   "cell_type": "markdown",
   "metadata": {
    "id": "WXHa2adCceZZ"
   },
   "source": [
    "The dataset consists of $41188$ datapoints and $20$ features. Some of the features contain categorical (non-numeric) data. However, none of the machine learning or deep learning algorithms can handle any categorical data. So, these types of data need to be encoded (which is nothing but converting the categorical data to numeric data). \n",
    "\n",
    "Some of the features of this dataset contain large numbers (of the order of $1000$), while the others contain very small numbers (of the order of $0.1$). In such cases, chances are that data would be more skewed towards the larger numbers. Therefore, scaling of the features becomes necessary here, in order to make the entire dataset have a Gaussian distribution with zero mean and unit standard deviation. \n",
    "\n",
    "Following these data pre-processing stage, the entire dataset would be divided into training, validation and test datasets. Artificial Neural Network (ANN) algorithm with $3$ different hidden-layer activation functions, namely `relu`, `elu` and `tanh`, would hence be deployed on the training dataset in order to obtain the $3$ different models. These models would then be applied on validation and test datasets in order to figure out as to which one could be used to correctly predict the outcome of bank telemarketing campaign.  "
   ]
  },
  {
   "cell_type": "markdown",
   "metadata": {
    "id": "i5mPOvFT_8eS"
   },
   "source": [
    "### Pre-Process the Dataset"
   ]
  },
  {
   "cell_type": "markdown",
   "metadata": {
    "id": "Myh0OJ3v_8eT"
   },
   "source": [
    "#### Encode Categorical Data in Feature Matrix"
   ]
  },
  {
   "cell_type": "markdown",
   "metadata": {
    "id": "pUBwvrwxeuGn"
   },
   "source": [
    "The categorical data in the dataset will now be converted to numeric data in this stage. `OneHotEncoder`, in combination with `ColumnTransformer`, from `sklearn` library is being used in order to encode those categorical data. \n",
    "\n",
    "Categorical data appear in columns $1$, $2$, $3$, $4$, $5$, $6$, $7$, $8$, $9$ and $14$ (following the convention of Python column-numbering) in the dataset. The data in these columns need to be converted to numeric data. "
   ]
  },
  {
   "cell_type": "code",
   "execution_count": 10,
   "metadata": {
    "id": "dyaZ7h4Q_8eY"
   },
   "outputs": [],
   "source": [
    "### Coding Cell 010\n",
    "\n",
    "# Importing the classes, modules and libraries necessary for this cell\n",
    "from sklearn.compose import ColumnTransformer   \n",
    "from sklearn.preprocessing import OneHotEncoder   \n",
    "\n",
    "# Transforming those columns of X which contain categorical data \n",
    "ct = ColumnTransformer(transformers=[('encoder',         \n",
    "                                      OneHotEncoder(),   \n",
    "                                      [1, 2, 3, 4, 5,\n",
    "                                       6, 7, 8, 9, 14\n",
    "                                      ]\n",
    "                                     )\n",
    "                                    ],\n",
    "                       remainder='passthrough')   \n",
    "\n",
    "# Creating a new feature matrix X_encoded with encoded categorical data\n",
    "X_encoded = np.array(ct.fit_transform(X))   "
   ]
  },
  {
   "cell_type": "markdown",
   "metadata": {
    "id": "nmWvMkO1_8eh"
   },
   "source": [
    "#### Scale the features in Feature Matrix (Feature-Scaling)"
   ]
  },
  {
   "cell_type": "markdown",
   "metadata": {
    "id": "lCNmIjp1kD8q"
   },
   "source": [
    "Some of the features in the dataset are of the order of $1000$, while the others are of the order of $0.1$. So, in order to eliminate such skewness in the data, scaling of all the features are necessary. It would allow the entire dataset to have a Gaussian distribution with zero mean and unit standard deviation. \n",
    "\n",
    "`StandardScalar` from `sklearn` library has been used for scaling the features of the dataset. "
   ]
  },
  {
   "cell_type": "code",
   "execution_count": 11,
   "metadata": {
    "id": "7FtkTWaA_8eq"
   },
   "outputs": [],
   "source": [
    "### Coding Cell 011\n",
    "\n",
    "# Importing the classes, modules and libraries necessary for this cell\n",
    "from sklearn.preprocessing import StandardScaler   \n",
    "\n",
    "# Creating an instance of the StandardScaler class\n",
    "sc = StandardScaler()   \n",
    "\n",
    "# Scaling the feature matrix\n",
    "X_scaled = sc.fit_transform(X_encoded)   "
   ]
  },
  {
   "cell_type": "markdown",
   "metadata": {
    "id": "cbvr3xk3nI3d"
   },
   "source": [
    "### Artifcial Neural Network (ANN)"
   ]
  },
  {
   "cell_type": "markdown",
   "metadata": {
    "id": "f9hxEZlx22j0"
   },
   "source": [
    "#### Splitting the Dataset into Training, Validation and Test Datasets"
   ]
  },
  {
   "cell_type": "markdown",
   "metadata": {
    "id": "FNyz3MIYl0br"
   },
   "source": [
    "After the necessary preprocessing of the dataset, it is now time to split the entire dataset into training, validation and test datasets. \n",
    "\n",
    "The entire dataset is first segregated into `trainval` and `test` datasets in the ratio of $75$:$25$. Thereafter, the `trainval` dataset is further divided into `train` and `val` datasets in the same ratio of $75$:$25$. The ones with `_NN` are used for working with Artificial Neural Network. The ones without `_NN` have been used for computing the confusion matrices.  \n",
    "\n",
    "ANN with $3$ different activation functions will be trained on the trainig dataset. Validation dataset would be used to obtain the accuracy and average loss of the models on unseen data. Finally, test dataset would be used to confirm the efficacy of the models in predicting outcomes. "
   ]
  },
  {
   "cell_type": "code",
   "execution_count": 12,
   "metadata": {
    "colab": {
     "base_uri": "https://localhost:8080/"
    },
    "executionInfo": {
     "elapsed": 48892,
     "status": "ok",
     "timestamp": 1605706549539,
     "user": {
      "displayName": "Subhadyuti Sahoo",
      "photoUrl": "https://lh3.googleusercontent.com/a-/AOh14Gggzyrj_lwU3EpxrDzpC0PCj0Tq81bUp15E8Iwr=s64",
      "userId": "09318899015774862526"
     },
     "user_tz": -330
    },
    "id": "RMh67YJM3HJQ",
    "outputId": "00ca4bd9-fa04-442e-e687-2032cbe564c9"
   },
   "outputs": [
    {
     "name": "stdout",
     "output_type": "stream",
     "text": [
      "Training dataset: (23168, 63)\n",
      "Validation dataset: (7723, 63)\n",
      "Test dataset: (10297, 63)\n"
     ]
    }
   ],
   "source": [
    "### Coding Cell 012\n",
    "\n",
    "# Importing the classes, modules and libraries necessary for this cell\n",
    "from sklearn.model_selection import train_test_split   \n",
    "\n",
    "# Encoding main labels into OneHot Representation\n",
    "y_NN = tensorflow.keras.utils.to_categorical(y)  \n",
    "\n",
    "# Splitting the entire dataset into trainval and test datasets for computing \n",
    "# confusion matrix \n",
    "X_trainval, X_test, y_trainval, y_test = train_test_split(X_scaled,   \n",
    "                                                          y,     \n",
    "                                                          test_size = 0.25,   \n",
    "                                                          random_state = 0   \n",
    "                                                         )\n",
    "\n",
    "# Splitting the entire dataset into trainval and test datasets \n",
    "# for Neural Networks\n",
    "X_trainval_NN, X_test_NN, y_trainval_NN, y_test_NN = train_test_split(\n",
    "                                                               X_scaled,   \n",
    "                                                               y_NN,     \n",
    "                                                               test_size = 0.25,   \n",
    "                                                               random_state = 0   \n",
    "                                                              )\n",
    "\n",
    "# Splitting the trainval dataset into training and validation datasets  \n",
    "# for computing confusion matrix\n",
    "X_train, X_val, y_train, y_val = train_test_split(X_trainval,   \n",
    "                                                  y_trainval,     \n",
    "                                                  test_size = 0.25,   \n",
    "                                                  random_state = 0   \n",
    "                                                 )\n",
    "\n",
    "# Splitting the trainval dataset into training and validation datasets \n",
    "# for Neural Networks\n",
    "X_train_NN, X_val_NN, y_train_NN, y_val_NN = train_test_split(X_trainval_NN,   \n",
    "                                                              y_trainval_NN,     \n",
    "                                                              test_size = 0.25,   \n",
    "                                                              random_state = 0   \n",
    "                                                             )\n",
    "\n",
    "# Displaying the dimensions of training, validation and test datasets\n",
    "print(f'Training dataset: {X_train_NN.shape}')\n",
    "print(f'Validation dataset: {X_val_NN.shape}')\n",
    "print(f'Test dataset: {X_test_NN.shape}')"
   ]
  },
  {
   "cell_type": "markdown",
   "metadata": {
    "id": "zPALNXJFn9Rh"
   },
   "source": [
    "#### Defining the Hypothesis Space (Model Structure) for ANN with RELU as Activation Function"
   ]
  },
  {
   "cell_type": "markdown",
   "metadata": {
    "id": "BkiU34eAu6K8"
   },
   "source": [
    "Here comes the model with the first of the $3$ different hidden-layer activation functions. The activation function for the hidden-layer is `relu`. \n",
    "\n",
    "The hidden-layer is going to contain $64$ neurons, which is the closest $2^{n}$ to $63$, which in turn is the new number of features (visible from the shapes of the datasets above) after encoding of categorical data and scaling of features. \n",
    "\n",
    "The output-layer consists of two neurons --- one for `no` and the other for `yes`. The activation function for the output-layer is `sigmoid`. \n",
    "\n",
    "A method known as `summary()` is called on model to view the information about model created just now. The following information can be obtained about the model:\n",
    "- The number of parameters (weights) in each layer\n",
    "- The total number of parameters (weights) in the model\n",
    "- The layers and their order in the model\n",
    "- The output shape of each layer"
   ]
  },
  {
   "cell_type": "code",
   "execution_count": 13,
   "metadata": {
    "colab": {
     "base_uri": "https://localhost:8080/"
    },
    "executionInfo": {
     "elapsed": 53824,
     "status": "ok",
     "timestamp": 1605706554473,
     "user": {
      "displayName": "Subhadyuti Sahoo",
      "photoUrl": "https://lh3.googleusercontent.com/a-/AOh14Gggzyrj_lwU3EpxrDzpC0PCj0Tq81bUp15E8Iwr=s64",
      "userId": "09318899015774862526"
     },
     "user_tz": -330
    },
    "id": "0YmO-agIoNT8",
    "outputId": "a596e1cd-dc19-4847-829c-28d9c030bad2"
   },
   "outputs": [
    {
     "name": "stdout",
     "output_type": "stream",
     "text": [
      "Model: \"sequential\"\n",
      "_________________________________________________________________\n",
      "Layer (type)                 Output Shape              Param #   \n",
      "=================================================================\n",
      "dense (Dense)                (None, 64)                4096      \n",
      "_________________________________________________________________\n",
      "dense_1 (Dense)              (None, 2)                 130       \n",
      "=================================================================\n",
      "Total params: 4,226\n",
      "Trainable params: 4,226\n",
      "Non-trainable params: 0\n",
      "_________________________________________________________________\n"
     ]
    }
   ],
   "source": [
    "### Coding Cell 013\n",
    "\n",
    "# Importing the classes, modules and libraries necessary for this cell\n",
    "from tensorflow.keras import Sequential \n",
    "from tensorflow.keras.layers import Dense\n",
    "\n",
    "# Creating an object \"model\" that represents an ANN\n",
    "model_with_RELU = Sequential()       \n",
    "\n",
    "# Defining an input layer with 63 nodes (equal to X_train.shape[1]) and \n",
    "# adding a hidden layer with 64 (closest 2^n to 63) neurons\n",
    "n = X_trainval_NN.shape[0]\n",
    "d = X_trainval_NN.shape[1]\n",
    "neurons = 64\n",
    "model_with_RELU.add(Dense(units = neurons, \n",
    "                          \n",
    "                          # Activation function for hidden layer\n",
    "                          activation = 'relu',   \n",
    "                          \n",
    "                          input_shape = (d,)\n",
    "                         )\n",
    "                   )\n",
    "\n",
    "# Adding output later consisting of 2 neurons \n",
    "# (equal to the number of unique labels)\n",
    "model_with_RELU.add(Dense(units = 2, \n",
    "                          \n",
    "                          # Activation function for output layer\n",
    "                          activation='sigmoid'   \n",
    "                         )\n",
    "                   ) \n",
    "\n",
    "# Displaying the summary of the model for ANN\n",
    "model_with_RELU.summary()"
   ]
  },
  {
   "cell_type": "markdown",
   "metadata": {
    "id": "N-00BU7sKpJI"
   },
   "source": [
    "#### Graphically Displaying the ANN Hypothesis Space of the Model with RELU as Activation Function"
   ]
  },
  {
   "cell_type": "markdown",
   "metadata": {
    "id": "hVm4BHTMxU5z"
   },
   "source": [
    "The aforementioned textual summary can be difficult to interpret for ANN structures with multiple inputs or outputs. For this purpose, `tf.keras` provides a function called `plot_model()` to create a graphical summary of the ANN which might be easier to interpret. This same `plot_model()` function is now used in order to graphically display the summary of the model created with `relu` activation function for the hidden-layer. "
   ]
  },
  {
   "cell_type": "code",
   "execution_count": 14,
   "metadata": {
    "colab": {
     "base_uri": "https://localhost:8080/",
     "height": 312
    },
    "executionInfo": {
     "elapsed": 53827,
     "status": "ok",
     "timestamp": 1605706554481,
     "user": {
      "displayName": "Subhadyuti Sahoo",
      "photoUrl": "https://lh3.googleusercontent.com/a-/AOh14Gggzyrj_lwU3EpxrDzpC0PCj0Tq81bUp15E8Iwr=s64",
      "userId": "09318899015774862526"
     },
     "user_tz": -330
    },
    "id": "iFow6efup_cY",
    "outputId": "0c33f95f-8f31-4076-db6a-c525d4a148d5"
   },
   "outputs": [
    {
     "data": {
      "image/png": "[encoded data removed]",
      "text/plain": [
       "<IPython.core.display.Image object>"
      ]
     },
     "execution_count": 14,
     "metadata": {},
     "output_type": "execute_result"
    }
   ],
   "source": [
    "### Coding Cell 014\n",
    "\n",
    "# Graphically displaying the ANN hypothesis space\n",
    "tensorflow.keras.utils.plot_model(model_with_RELU,\n",
    "                                  to_file = 'model_with_RELU.png',\n",
    "                                  show_shapes = True, \n",
    "                                  show_layer_names = True\n",
    "                                 )"
   ]
  },
  {
   "cell_type": "markdown",
   "metadata": {
    "id": "-IxY_aQux4EQ"
   },
   "source": [
    "#### Choosing Optimizer, Loss Function and Metrics for the Model with RELU as Activation Function"
   ]
  },
  {
   "cell_type": "markdown",
   "metadata": {
    "id": "lVXG8FItx-O5"
   },
   "source": [
    "In the coding cell below, $3$ essential things for the model are defined:\n",
    "1. the specific SGD variant for tuning the weights of the ANN\n",
    "2. the loss function used to measure the quality of particular choice for the weights\n",
    "3. the metric to assess the performance of the final choice for the weights. \n",
    "\n",
    "For the model created with `relu` as activation function for the hidden-layer, `RMSprop()` has been chosen as the specific SGD variant, `binary_crossentropy` is chosen as the loss function (since there are only $2$ categories) and `accuracy` as the metric. "
   ]
  },
  {
   "cell_type": "code",
   "execution_count": 15,
   "metadata": {
    "id": "-_FFePHUx974"
   },
   "outputs": [],
   "source": [
    "### Coding Cell 015\n",
    "\n",
    "# Selecting Optimizer, Loss Function and Measure of quality\n",
    "model_with_RELU.compile(\n",
    "                        # Optimizer            \n",
    "                        optimizer=tensorflow.keras.optimizers.RMSprop(), \n",
    "    \n",
    "                        # Loss function    \n",
    "                        loss='binary_crossentropy',   \n",
    "                      \n",
    "                        # Measure of quality\n",
    "                        metrics=['accuracy']   \n",
    "                       )   "
   ]
  },
  {
   "cell_type": "markdown",
   "metadata": {
    "id": "A07nqKNfy1Rl"
   },
   "source": [
    "#### Training the Artificial Neural Network (ANN) Model on the Training Dataset with RELU as Activation Function"
   ]
  },
  {
   "cell_type": "markdown",
   "metadata": {
    "id": "xD8Mai4tgbmi"
   },
   "source": [
    "The ANN with `relu` as the activation function for the hidden-layer is now ready to be trained on the training dataset `X_train_NN`. However, before running the following coding cell, there are some parameters inside the `.fit()` method which would require further elaboration:\n",
    "- **batch_size**: It defines the number of samples per gradient update. If not specified, the default value would be $32$. However, for the ease of understanding, it has been set to $32$ here. \n",
    "- **epochs**: This parameter is the number of times the optimization algorithm uses the entire dataset for tuning the weights. Generally the training error decreases with increasing number of epochs. The `epochs` is kept at $15$. \n",
    "- **validation_data**: This data is required in order to evaluate the performance of the trained model on hitherto unseen data. `X_val_NN` and `y_val_NN` are passed as arguments for `validation_data`.  "
   ]
  },
  {
   "cell_type": "code",
   "execution_count": 16,
   "metadata": {
    "id": "C8KOTW80y_Af"
   },
   "outputs": [],
   "source": [
    "### Coding Cell 016\n",
    "\n",
    "# Specifying the no. of epochs \n",
    "n_of_epochs = 15\n",
    "\n",
    "# Fitting the model\n",
    "hist_with_RELU = model_with_RELU.fit(x = X_train_NN, \n",
    "                                     y = y_train_NN, \n",
    "                                     batch_size = 32, \n",
    "                                     epochs = n_of_epochs,\n",
    "                                     verbose = 0,\n",
    "                                     validation_data = (X_val_NN, y_val_NN))"
   ]
  },
  {
   "cell_type": "markdown",
   "metadata": {
    "id": "EH8Q3yiW0tgm"
   },
   "source": [
    "#### Predicting Labels of Training and Validation Datasets trained on ANN Model with RELU as Activation Function"
   ]
  },
  {
   "cell_type": "markdown",
   "metadata": {
    "id": "Q8EBLMEilc29"
   },
   "source": [
    "The labels for the training as well as the validation datasets are predicted in the following coding cell. The predicted labels will be compared with the true labels of the datasets in order to find out the accuracy of the ANN with `relu` as the activation function for the hidden-layer. "
   ]
  },
  {
   "cell_type": "code",
   "execution_count": 17,
   "metadata": {
    "id": "q9SDnyJp1uSQ"
   },
   "outputs": [],
   "source": [
    "### Coding Cell 017\n",
    "\n",
    "# Importing the classes, modules and libraries necessary for this cell\n",
    "from sklearn.preprocessing import OneHotEncoder\n",
    "\n",
    "# Predicting the Labels of Training Dataset trained on ANN Model with RELU \n",
    "enc = OneHotEncoder()   # Instance of OneHotEncoder() class\n",
    "enc.fit(y)   # Fitting labels into the previously created instance \"enc\"\n",
    "y_train_RELU_pred_encoded = model_with_RELU.predict(X_train, batch_size = 32)\n",
    "y_train_RELU_pred = enc.inverse_transform(y_train_RELU_pred_encoded)                     \n",
    "\n",
    "# Predicting the Labels of Validation Dataset trained on ANN Model \n",
    "y_val_RELU_pred_encoded = model_with_RELU.predict(X_val, batch_size = 32)                    \n",
    "y_val_RELU_pred = enc.inverse_transform(y_val_RELU_pred_encoded)             "
   ]
  },
  {
   "cell_type": "markdown",
   "metadata": {
    "id": "X1udQG19x24-"
   },
   "source": [
    "#### Computing the Confusion Matrices of Training and Validation Datasets trained on ANN Model with RELU as Activation Function"
   ]
  },
  {
   "cell_type": "markdown",
   "metadata": {
    "id": "wa7IaHOZmHjT"
   },
   "source": [
    "<img src=\"picConfusionMatrix.png\" width=\"275\">\n",
    "\n",
    "Confusion matrices can give some important information about the accuracy of any model created for prediction purposes. By definition, a confusion matrix $\\textbf{C}$ is such that $\\textbf{C}_{i,j}$ is equal to the number of observations known to be in group $i$ and predicted to be in group $j$.\n",
    "\n",
    "Thus, in case of binary classification, $\\textbf{C}_{0,0}$ gives the count of `true negatives` and $\\textbf{C}_{1,1}$ gives the count of `true positives`. $\\textbf{C}_{0,1}$ would give the count of `false positives`: the number of outcomes predicted to be positive but are negative in reality. $\\textbf{C}_{1,0}$ would give the count of `false negatives`: the number of outcomes predicted to be negative but are positive in reality.  \n",
    "\n",
    "False positives are also known as Type-I errors as the model predicted the outcome to be positive but those outcomes were negative in reality. It means that, our model predicted that someone would open a fixed-deposit account but that person actually did not open an account in reality. \n",
    "\n",
    "False negatives are known as Type-II errors. It is because the model predicted an outcome to be negative but it was positive in reality. It means that, the model predicted that someone would not open a fixed-deposit bank account but did so in reality. From the perspective of any bank, missing out on such a potential customer would lead to the bank's loss. Hence, reduction in false negatives is also one of the goals over here as well. "
   ]
  },
  {
   "cell_type": "code",
   "execution_count": 18,
   "metadata": {
    "id": "pxYLvV-g8tWt"
   },
   "outputs": [],
   "source": [
    "### Coding Cell 018\n",
    "\n",
    "# Creating a User-Defined Function for Computing Confusion Matrices\n",
    "def compute_confusion_matrix(yTrue, yPred):\n",
    "  \"\"\"\n",
    "  Returns confusion matrix\n",
    "\n",
    "  Args:\n",
    "    yTrue (vector, shape = [n, 1]): True label vector of the dataset\n",
    "    yPred (vector, shape = [n, 1]): Predcited label vector of the dataset\n",
    "  \"\"\"\n",
    "\n",
    "  # Importing the classes, modules and libraries necessary for this cell\n",
    "  from sklearn.metrics import confusion_matrix\n",
    "\n",
    "  # Computing the confusion matrix\n",
    "  cm = confusion_matrix(y_true = yTrue,\n",
    "                        y_pred = yPred,\n",
    "                        normalize = 'all')\n",
    "  cm = np.around(cm, 2)\n",
    "\n",
    "  # Returning the confusion matrix\n",
    "  return cm "
   ]
  },
  {
   "cell_type": "code",
   "execution_count": 19,
   "metadata": {
    "id": "pQsi85kzx1eO"
   },
   "outputs": [],
   "source": [
    "### Coding Cell 019\n",
    "\n",
    "# Evaluating Confusion Matrices of Training and Validation Datasets\n",
    "cm_train_RELU = compute_confusion_matrix(yTrue = y_train,\n",
    "                                         yPred = y_train_RELU_pred)\n",
    "cm_val_RELU = compute_confusion_matrix(yTrue = y_val,\n",
    "                                       yPred = y_val_RELU_pred)"
   ]
  },
  {
   "cell_type": "markdown",
   "metadata": {
    "id": "BzRMN7ysyAgD"
   },
   "source": [
    "#### Displaying Overall Accuracy Scores, Visualizing Prediction Accuracy v/s Epoch, Visualizing Losses v/s Epoch and Visualizing Confusion Matrices of Training and Validation Datasets trained on ANN Model with RELU as Activation Function"
   ]
  },
  {
   "cell_type": "markdown",
   "metadata": {
    "id": "z2eNaPxlqvZo"
   },
   "source": [
    "The overall accuracy scores, average losses and confusion matrices for both the training as well as the validation datasets are visualized via codes in the following coding cells. The visualization of the prediction accuracy and average loss against epochs will give a rough idea about:\n",
    "- how fast the optimization algorithm improves the loss function by adjusting the weights\n",
    "- whether there is any significant progress made anymore \n",
    "- whether the resulting predictor is overfitting, that is, if the validation loss is higher than the training loss"
   ]
  },
  {
   "cell_type": "code",
   "execution_count": 20,
   "metadata": {
    "id": "DeVo-vkz2nZb"
   },
   "outputs": [],
   "source": [
    "### Coding Cell 020\n",
    "\n",
    "# Creating a User-Defined Function for Plotting Prediction Accuracy and Losses v/s Epoch\n",
    "def plot_accloss_vs_epochs(train_accloss_vector_NN, val_accloss_vector_NN, \n",
    "                           epochs, datasets, isLoss):\n",
    "  \"\"\"\n",
    "  Returns a figure containing Accuracy Scores/Incorrect Preds v/s Epoch for Training and \n",
    "  Validation\n",
    "\n",
    "  Args:\n",
    "    train_accloss_vector_NN (vector, shape = [n, ]): Vector containing training-set \n",
    "                                                     correct/incorrect pred scores\n",
    "    val_accloss_vector_NN (vector, shape = [n, ]): Vector containing validation-set \n",
    "                                                   correct/incorrect pred scores\n",
    "    epochs (scalar): Number of epochs\n",
    "    datasets (list, len = 3): List of names of all datasets\n",
    "    isLoss (boolean): True if avg loss scores passed, False if accuracy scores passed\n",
    "  \"\"\"\n",
    "\n",
    "  # Creating a vector for x-axis of the plot\n",
    "  stopp = epochs + 1\n",
    "  epochs_vector = np.arange(start = 1, stop = stopp, step = 1)\n",
    "  epochs_vector = epochs_vector.reshape(-1,1)\n",
    "\n",
    "  # Creating vectors to be used for titles and ylabels\n",
    "  accLossTitle = []  # Vector to store accuracy scores\n",
    "  accLossYLabel = []   # Vector to store incorrect predictions\n",
    "  if (isLoss):\n",
    "    accLossTitle.append('Losses ')\n",
    "    accLossYLabel.append('Losses (%)')\n",
    "  else:\n",
    "    accLossTitle.append('Prediction Accuracy ')\n",
    "    accLossYLabel.append('Prediction Accuracy (%)')\n",
    "\n",
    "  # Declaring a figure handle which will be returned eventually\n",
    "  figure = plt.figure(figsize=(16, 5))\n",
    "\n",
    "  #---- Acc/Loss v/s Epochs for Training Datasets ----#\n",
    "  ax1 = figure.add_subplot(131)  # add subplot 1\n",
    "  plt.plot(epochs_vector, train_accloss_vector_NN, \n",
    "           color = 'tab:blue')  # plot accuracy v/s epochs\n",
    "  plt.title(accLossTitle[0] + \"v/s Epochs for \\n \" + datasets[0])  # set title\n",
    "  plt.ylabel(accLossYLabel[0])  # set ylabel\n",
    "  plt.xlabel('Epochs')  # set xlabel\n",
    "  plt.tight_layout()\n",
    "\n",
    "  #---- Acc/Loss v/s Epochs for Validation Datasets ----#\n",
    "  ax2 = figure.add_subplot(132)  # add subplot 2\n",
    "  plt.plot(epochs_vector, val_accloss_vector_NN, \n",
    "           color = 'tab:orange')  # plot accuracy v/s epochs\n",
    "  plt.title(accLossTitle[0] + \"v/s Epochs for \\n \" + datasets[1])  # set title\n",
    "  plt.ylabel(accLossYLabel[0])  # set ylabel\n",
    "  plt.xlabel('Epochs')  # set xlabel\n",
    "  plt.tight_layout()"
   ]
  },
  {
   "cell_type": "code",
   "execution_count": 21,
   "metadata": {
    "id": "VK-9Yj1F3lc9"
   },
   "outputs": [],
   "source": [
    "### Coding Cell 021\n",
    "\n",
    "# Creating a User-Defined Function for Plotting Confusion Matrices\n",
    "\n",
    "def plot_custom_confusion_matrix(cm1, cm2, label_names, datasets):\n",
    "  \"\"\"\n",
    "  Returns a matplotlib figure containing plotted confusion matrices\n",
    "\n",
    "  Args:\n",
    "    cm1 (array, shape = [n, n]): a confusion matrix \n",
    "    cm2 (array, shape = [n, n]): a confusion matrix \n",
    "    label_names (list, len = m): List of names of the integer labels\n",
    "    datasets (list, len = m): List of names of all datasets\n",
    "  \"\"\"\n",
    "  \n",
    "  # Defining a figure handle which would be returned eventually\n",
    "  figure = plt.figure(figsize=(21, 5))\n",
    "\n",
    "  #---- Confusion Matrix Plot for Training Datasets ----#\n",
    "  ax1 = figure.add_subplot(131)  # add subplot 1\n",
    "  plt.imshow(cm1, interpolation='nearest', cmap=plt.cm.Blues)  # show the cm\n",
    "  plt.title(\"Normalized Confusion Matrix for \" + datasets[0])  # set title\n",
    "  plt.colorbar()  # set color palette\n",
    "  tick_marks = np.arange(len(label_names))  # set tick_marks\n",
    "  plt.xticks(tick_marks, label_names, rotation=45)  # set xticks\n",
    "  plt.yticks(tick_marks, label_names)  # set yticks\n",
    "  \"\"\"\n",
    "  Use white text if squares are dark; otherwise black.\n",
    "  \"\"\"\n",
    "  threshold = cm1.max() / 1.2  # set the threshold value for font colors\n",
    "  for i, j in itertools.product(range(cm1.shape[0]), range(cm1.shape[1])):\n",
    "    color = \"white\" if cm1[i, j] > threshold else \"black\"\n",
    "    plt.text(j, i, cm1[i, j], horizontalalignment=\"center\", color=color)\n",
    "  plt.tight_layout()\n",
    "  plt.ylabel('True labels')  # set xlabel\n",
    "  plt.xlabel('Predicted labels')  # set ylabel\n",
    "\n",
    "  #---- Confusion Matrix Plot for Validation Datasets ----#\n",
    "  ax2 = figure.add_subplot(132)  # add subplot 2\n",
    "  plt.imshow(cm2, interpolation='nearest', cmap=plt.cm.Blues)  # show the cm\n",
    "  plt.title(\"Normalized Confusion Matrix for \" + datasets[1])  # set title\n",
    "  plt.colorbar()  # set the color palette\n",
    "  tick_marks = np.arange(len(label_names))  # set tick_marks\n",
    "  plt.xticks(tick_marks, label_names, rotation=45)  # set xticks\n",
    "  plt.yticks(tick_marks, label_names)  # set yticks\n",
    "  \"\"\"\n",
    "  Use white text if squares are dark; otherwise black.\n",
    "  \"\"\"\n",
    "  threshold = cm2.max() / 1.2  # set the threshold value for font colors\n",
    "  for i, j in itertools.product(range(cm2.shape[0]), range(cm2.shape[1])):\n",
    "    color = \"white\" if cm2[i, j] > threshold else \"black\"\n",
    "    plt.text(j, i, cm2[i, j], horizontalalignment=\"center\", color=color)\n",
    "  plt.tight_layout()  \n",
    "  plt.ylabel('True labels')  # set xlabel\n",
    "  plt.xlabel('Predicted labels')  # set ylabel\n",
    "  return figure  # return the figure handle"
   ]
  },
  {
   "cell_type": "code",
   "execution_count": 22,
   "metadata": {
    "colab": {
     "base_uri": "https://localhost:8080/",
     "height": 1000
    },
    "executionInfo": {
     "elapsed": 78025,
     "status": "ok",
     "timestamp": 1605706578709,
     "user": {
      "displayName": "Subhadyuti Sahoo",
      "photoUrl": "https://lh3.googleusercontent.com/a-/AOh14Gggzyrj_lwU3EpxrDzpC0PCj0Tq81bUp15E8Iwr=s64",
      "userId": "09318899015774862526"
     },
     "user_tz": -330
    },
    "id": "pLXnam7yxsKp",
    "outputId": "efda3299-2987-44a5-faa9-8e0a88601e5c"
   },
   "outputs": [
    {
     "name": "stdout",
     "output_type": "stream",
     "text": [
      "--- Accuracy Scores ---\n",
      "Prediction Accuracy Score of Training Dataset for ANN with RELU =  92.7 %\n",
      "Prediction Accuracy Score of Validation Dataset for ANN with RELU =  90.9 %\n",
      "-----------------------\n",
      "\n",
      "\n"
     ]
    },
    {
     "data": {
      "image/png": "[encoded data removed]",
      "text/plain": [
       "<Figure size 1152x360 with 2 Axes>"
      ]
     },
     "metadata": {
      "needs_background": "light"
     },
     "output_type": "display_data"
    },
    {
     "data": {
      "image/png": "[encoded data removed]",
      "text/plain": [
       "<Figure size 1152x360 with 2 Axes>"
      ]
     },
     "metadata": {
      "needs_background": "light"
     },
     "output_type": "display_data"
    },
    {
     "data": {
      "image/png": "[encoded data removed]",
      "text/plain": [
       "<Figure size 1512x360 with 4 Axes>"
      ]
     },
     "metadata": {
      "needs_background": "light"
     },
     "output_type": "display_data"
    }
   ],
   "source": [
    "### Coding Cell 022\n",
    "\n",
    "# Importing the classes, modules and libraries necessary for this cell\n",
    "from sklearn.metrics import accuracy_score, zero_one_loss\n",
    "\n",
    "# Verifying the current tensorflow version\n",
    "if int(tensorflow.__version__.split('.')[0]) > 1:\n",
    "    acc_key = 'accuracy'\n",
    "else:\n",
    "    acc_key = 'acc'\n",
    "\n",
    "# Storing the Final Prediction Accuracies of Training and Validation Datsets\n",
    "train_accuracy_RELU = hist_with_RELU.history[acc_key][-1]\n",
    "val_accuracy_RELU = hist_with_RELU.history['val_' + acc_key][-1]\n",
    "train_accuracy_RELU_percentage = round((train_accuracy_RELU * 100.00), 1)\n",
    "val_accuracy_RELU_percentage = round((val_accuracy_RELU * 100.00), 1)\n",
    "\n",
    "# Storing the Final Loss Scores of Training and Validation Datsets\n",
    "train_loss_RELU = hist_with_RELU.history['loss'][-1]\n",
    "val_loss_RELU = hist_with_RELU.history['val_loss'][-1]\n",
    "train_loss_RELU_percentage = round((train_loss_RELU * 100.00), 1)\n",
    "val_loss_RELU_percentage = round((val_loss_RELU * 100.00), 1)\n",
    "\n",
    "# Creating vectors which would contain Epoch-Wise Accuracy and Loss Scores\n",
    "train_accuracy_vector_fractions_RELU = np.asarray(hist_with_RELU.history[acc_key]).reshape(-1,1)\n",
    "train_accuracy_vector_RELU = train_accuracy_vector_fractions_RELU * 100.00  # TrainAccuracyVector\n",
    "train_losses_vector_fractions_RELU = np.asarray(hist_with_RELU.history['loss']).reshape(-1,1)\n",
    "train_losses_vector_RELU = train_losses_vector_fractions_RELU * 100.00  # TrainLossVector\n",
    "val_accuracy_vector_fractions_RELU = np.asarray(hist_with_RELU.history['val_' + acc_key]).reshape(-1,1)\n",
    "val_accuracy_vector_RELU = val_accuracy_vector_fractions_RELU * 100.00 #ValAccuracyVector \n",
    "val_losses_vector_fractions_RELU = np.asarray(hist_with_RELU.history['val_loss']).reshape(-1,1)\n",
    "val_losses_vector_RELU = val_losses_vector_fractions_RELU * 100.00 #ValLossVector\n",
    "\n",
    "# Plotting Epoch-Wise Prediction Accuracy Scores of Training and Validation Datasets\n",
    "datasets_trainval_RELU = [\"Training Dataset (ANN with RELU)\",\n",
    "                          \"Validation Dataset (ANN with RELU)\"\n",
    "                         ]\n",
    "plot_accloss_vs_epochs(train_accloss_vector_NN = train_accuracy_vector_RELU,\n",
    "                       val_accloss_vector_NN = val_accuracy_vector_RELU,\n",
    "                       epochs = n_of_epochs,\n",
    "                       datasets = datasets_trainval_RELU,\n",
    "                       isLoss = False) \n",
    "\n",
    "# Plotting Epoch-Wise Loss Scores of Training and Validation Datasets\n",
    "plot_accloss_vs_epochs(train_accloss_vector_NN = train_losses_vector_RELU,\n",
    "                       val_accloss_vector_NN = val_losses_vector_RELU,\n",
    "                       epochs = n_of_epochs,\n",
    "                       datasets = datasets_trainval_RELU,\n",
    "                       isLoss = True) \n",
    "\n",
    "# Plotting the Confusion Matrices of Training and Validation Datasets\n",
    "plot_custom_confusion_matrix(cm1 = cm_train_RELU,\n",
    "                             cm2 = cm_val_RELU,\n",
    "                             label_names = label_names,\n",
    "                             datasets = datasets_trainval_RELU)\n",
    "\n",
    "# Displaying Final Prediction Accuracies of Training and Validation Datasets\n",
    "np.set_printoptions(precision=2)\n",
    "print('--- Accuracy Scores ---')\n",
    "print('Prediction Accuracy Score of Training Dataset for ANN with RELU = ', \n",
    "      train_accuracy_RELU_percentage, \n",
    "      '%')   \n",
    "print('Prediction Accuracy Score of Validation Dataset for ANN with RELU = ', \n",
    "      val_accuracy_RELU_percentage, \n",
    "      '%')  \n",
    "print('-----------------------')\n",
    "print('\\n')"
   ]
  },
  {
   "cell_type": "markdown",
   "metadata": {
    "id": "U8VDYhJZrrMI"
   },
   "source": [
    "It is quite evident from the numbers and the plots above that the model trained on ANN with `relu` as activation function for the hidden-layer is slightly overfitting: \n",
    "1. **Accuracy Scores**: Accuracy score ($\\approx 92.7\\%$) of the training dataset is higher than the accuracy score ($\\approx 91.0\\%$) of the validation dataset\n",
    "2. **Average Losses**: Average loss for training dataset decreases with increase in the number of epochs but the same for validation dataset is quite unpredictable"
   ]
  },
  {
   "cell_type": "markdown",
   "metadata": {
    "id": "30e54X6dI7v8"
   },
   "source": [
    "#### Defining the Hypothesis Space (Model Structure) for ANN with ELU as Activation Function"
   ]
  },
  {
   "cell_type": "markdown",
   "metadata": {
    "id": "mv9g-x5Y3Rbj"
   },
   "source": [
    "Now comes the model with the second of the $3$ different hidden-layer activation functions. The activation function for the hidden-layer is `elu`. \n",
    "\n",
    "The hidden-layer is once again going to contain $64$ neurons. The output-layer consists of two neurons --- one for `no` and the other for `yes`. The activation function for the output-layer is `sigmoid` as well. "
   ]
  },
  {
   "cell_type": "code",
   "execution_count": 23,
   "metadata": {
    "colab": {
     "base_uri": "https://localhost:8080/"
    },
    "executionInfo": {
     "elapsed": 78024,
     "status": "ok",
     "timestamp": 1605706578711,
     "user": {
      "displayName": "Subhadyuti Sahoo",
      "photoUrl": "https://lh3.googleusercontent.com/a-/AOh14Gggzyrj_lwU3EpxrDzpC0PCj0Tq81bUp15E8Iwr=s64",
      "userId": "09318899015774862526"
     },
     "user_tz": -330
    },
    "id": "ITE35i-xI7Jf",
    "outputId": "d1484880-e304-496d-d136-c7031d8906e2"
   },
   "outputs": [
    {
     "name": "stdout",
     "output_type": "stream",
     "text": [
      "Model: \"sequential_1\"\n",
      "_________________________________________________________________\n",
      "Layer (type)                 Output Shape              Param #   \n",
      "=================================================================\n",
      "dense_2 (Dense)              (None, 64)                4096      \n",
      "_________________________________________________________________\n",
      "dense_3 (Dense)              (None, 2)                 130       \n",
      "=================================================================\n",
      "Total params: 4,226\n",
      "Trainable params: 4,226\n",
      "Non-trainable params: 0\n",
      "_________________________________________________________________\n"
     ]
    }
   ],
   "source": [
    "### Coding Cell 023\n",
    "\n",
    "# Importing the classes, modules and libraries necessary for this cell\n",
    "from tensorflow.keras import Sequential \n",
    "from tensorflow.keras.layers import Dense\n",
    "\n",
    "# Creating an object \"model\" that represents an ANN\n",
    "model_with_ELU = Sequential()       \n",
    "\n",
    "# Defining an input layer with 63 nodes (equal to X_train.shape[1]) and \n",
    "# adding a hidden layer with 64 (closest 2^n to 63) neurons\n",
    "neurons = 64\n",
    "model_with_ELU.add(Dense(units = neurons, \n",
    "                         \n",
    "                         # Activation function for hidden layer\n",
    "                         activation = 'elu',   \n",
    "                         \n",
    "                         input_shape = (d,)\n",
    "                        )\n",
    "                  )\n",
    "\n",
    "# Adding output later consisting of 2 neurons (equal to the number of unique labels)\n",
    "model_with_ELU.add(Dense(units = 2, \n",
    "                         \n",
    "                         # Activation function for output layer\n",
    "                         activation='sigmoid'   \n",
    "                        )\n",
    "                  ) \n",
    "\n",
    "# Displaying the summary of the model for ANN\n",
    "model_with_ELU.summary()"
   ]
  },
  {
   "cell_type": "markdown",
   "metadata": {
    "id": "GFSHzWNqK2Wa"
   },
   "source": [
    "#### Graphically Displaying the ANN Hypothesis Space of the Model with ELU as Activation Function"
   ]
  },
  {
   "cell_type": "markdown",
   "metadata": {
    "id": "LsEZaOui3q2a"
   },
   "source": [
    "The `plot_model()` function is used in order to graphically display the summary of the model created with `elu` activation function for the hidden-layer."
   ]
  },
  {
   "cell_type": "code",
   "execution_count": 24,
   "metadata": {
    "colab": {
     "base_uri": "https://localhost:8080/",
     "height": 312
    },
    "executionInfo": {
     "elapsed": 78024,
     "status": "ok",
     "timestamp": 1605706578714,
     "user": {
      "displayName": "Subhadyuti Sahoo",
      "photoUrl": "https://lh3.googleusercontent.com/a-/AOh14Gggzyrj_lwU3EpxrDzpC0PCj0Tq81bUp15E8Iwr=s64",
      "userId": "09318899015774862526"
     },
     "user_tz": -330
    },
    "id": "cjMxJkHaK_PT",
    "outputId": "6df612d8-dd2c-43d9-d1ba-3a01b61b7251"
   },
   "outputs": [
    {
     "data": {
      "image/png": "[encoded data removed]",
      "text/plain": [
       "<IPython.core.display.Image object>"
      ]
     },
     "execution_count": 24,
     "metadata": {},
     "output_type": "execute_result"
    }
   ],
   "source": [
    "### Coding Cell 024\n",
    "\n",
    "# Graphically displaying the ANN hypothesis space\n",
    "tensorflow.keras.utils.plot_model(model_with_ELU,\n",
    "                                  to_file = 'model_with_ELU.png',\n",
    "                                  show_shapes = True, \n",
    "                                  show_layer_names = True\n",
    "                                 )"
   ]
  },
  {
   "cell_type": "markdown",
   "metadata": {
    "id": "NjyiR_AKLV-H"
   },
   "source": [
    "#### Choosing Optimizer, Loss Function and Metrics for the Model with ELU as Activation Function"
   ]
  },
  {
   "cell_type": "markdown",
   "metadata": {
    "id": "cMQyaIQm4Zxj"
   },
   "source": [
    "As was the case with the model with `relu` as activation function for the hidden-layer, for the model created with `elu` as activation function for the hidden-layer, `RMSprop()` has been chosen as the specific SGD variant, `binary_crossentropy` is chosen as the loss function (since there are only $2$ categories) and `accuracy` as the metric. "
   ]
  },
  {
   "cell_type": "code",
   "execution_count": 25,
   "metadata": {
    "id": "beZrEGxZLpZ4"
   },
   "outputs": [],
   "source": [
    "### Coding Cell 025\n",
    "\n",
    "# Selecting Optimizer, Loss Function and Measure of quality\n",
    "model_with_ELU.compile(\n",
    "                       # Optimizer \n",
    "                       optimizer=tensorflow.keras.optimizers.RMSprop(), \n",
    "    \n",
    "                       # Loss function\n",
    "                       loss='binary_crossentropy',   \n",
    "    \n",
    "                       # Measure of quality\n",
    "                       metrics=['accuracy']   \n",
    "                      )   "
   ]
  },
  {
   "cell_type": "markdown",
   "metadata": {
    "id": "dx3MJSLAL8JC"
   },
   "source": [
    "#### Training the Artificial Neural Network (ANN) Model on the Training Dataset with ELU as Activation Function"
   ]
  },
  {
   "cell_type": "markdown",
   "metadata": {
    "id": "GgeiEO3x4zJj"
   },
   "source": [
    "The ANN with `elu` as the activation function for the hidden-layer is now ready to be trained on the training dataset `X_train_NN`. The `batch_size` is kept at $32$, `epochs` at $15$ and `X_val_NN` and `y_val_NN` are passed as `validation_data`. "
   ]
  },
  {
   "cell_type": "code",
   "execution_count": 26,
   "metadata": {
    "id": "nQdZWDCgMIbd"
   },
   "outputs": [],
   "source": [
    "### Coding Cell 026\n",
    "\n",
    "# Fitting the model\n",
    "hist_with_ELU = model_with_ELU.fit(x = X_train_NN, \n",
    "                                   y = y_train_NN, \n",
    "                                   batch_size = 32, \n",
    "                                   epochs = n_of_epochs,\n",
    "                                   verbose = 0,\n",
    "                                   validation_data = (X_val_NN, y_val_NN))"
   ]
  },
  {
   "cell_type": "markdown",
   "metadata": {
    "id": "AOgfZmkSMqQZ"
   },
   "source": [
    "#### Predicting Labels of Training and Validation Datasets trained on ANN Model with ELU as Activation Function"
   ]
  },
  {
   "cell_type": "markdown",
   "metadata": {
    "id": "oSs3oq5n4yis"
   },
   "source": [
    "The labels for the training as well as the validation datasets are predicted in the following coding cell. The predicted labels will also be compared with the true labels of the datasets in order to find out the accuracy of the ANN with `elu` as the activation function for the hidden-layer."
   ]
  },
  {
   "cell_type": "code",
   "execution_count": 27,
   "metadata": {
    "id": "LoyfQhKgM0OJ"
   },
   "outputs": [],
   "source": [
    "### Coding Cell 027\n",
    "\n",
    "# Importing the classes, modules and libraries necessary for this cell\n",
    "from sklearn.preprocessing import OneHotEncoder\n",
    "\n",
    "# Predicting the Labels of Training Dataset trained on ANN Model with ELU \n",
    "y_train_ELU_pred_encoded = model_with_ELU.predict(X_train, batch_size = 32)\n",
    "y_train_ELU_pred = enc.inverse_transform(y_train_ELU_pred_encoded)                     \n",
    "\n",
    "# Predicting the Labels of Validation Dataset trained on ANN Model \n",
    "y_val_ELU_pred_encoded = model_with_ELU.predict(X_val, batch_size = 32)                    \n",
    "y_val_ELU_pred = enc.inverse_transform(y_val_ELU_pred_encoded)             "
   ]
  },
  {
   "cell_type": "markdown",
   "metadata": {
    "id": "gEStCCO5NH3T"
   },
   "source": [
    "#### Computing the Confusion Matrices of Training and Validation Datasets trained on ANN Model with ELU as Activation Function"
   ]
  },
  {
   "cell_type": "markdown",
   "metadata": {
    "id": "B7WzDLea5qoP"
   },
   "source": [
    "The following coding cell computes the confusion matrix between the true labels and the predicted labels provided by the model trained on ANN with `elu` as the activation function for the hidden-layer. "
   ]
  },
  {
   "cell_type": "code",
   "execution_count": 28,
   "metadata": {
    "id": "5Cz1nQ9oNpk_"
   },
   "outputs": [],
   "source": [
    "### Coding Cell 028\n",
    "\n",
    "# Evaluating Confusion Matrices of Training and Validation Datasets\n",
    "cm_train_ELU = compute_confusion_matrix(yTrue = y_train,\n",
    "                                        yPred = y_train_ELU_pred)\n",
    "cm_val_ELU = compute_confusion_matrix(yTrue = y_val,\n",
    "                                      yPred = y_val_ELU_pred)"
   ]
  },
  {
   "cell_type": "markdown",
   "metadata": {
    "id": "h0rUdSl3N7E5"
   },
   "source": [
    "#### Displaying Overall Accuracy Scores, Visualizing Prediction Accuracy v/s Epoch, Visualizing Losses v/s Epoch and Visualizing Confusion Matrices of Training and Validation Datasets trained on ANN Model with ELU as Activation Function\n"
   ]
  },
  {
   "cell_type": "markdown",
   "metadata": {
    "id": "PHnngP8Y8ySU"
   },
   "source": [
    "The overall accuracy scores, average losses and confusion matrices for both the training as well as the validation datasets are visualized via the codes in the following coding cell."
   ]
  },
  {
   "cell_type": "code",
   "execution_count": 29,
   "metadata": {
    "colab": {
     "base_uri": "https://localhost:8080/",
     "height": 1000
    },
    "executionInfo": {
     "elapsed": 96651,
     "status": "ok",
     "timestamp": 1605706597359,
     "user": {
      "displayName": "Subhadyuti Sahoo",
      "photoUrl": "https://lh3.googleusercontent.com/a-/AOh14Gggzyrj_lwU3EpxrDzpC0PCj0Tq81bUp15E8Iwr=s64",
      "userId": "09318899015774862526"
     },
     "user_tz": -330
    },
    "id": "CiocB-HkOLmg",
    "outputId": "662e98c6-c267-435c-94b3-13916906d31a"
   },
   "outputs": [
    {
     "name": "stdout",
     "output_type": "stream",
     "text": [
      "--- Accuracy Scores ---\n",
      "Prediction Accuracy Score of Training Dataset for ANN with ELU =  92.0 %\n",
      "Prediction Accuracy Score of Validation Dataset for ANN with ELU =  91.3 %\n",
      "-----------------------\n",
      "\n",
      "\n"
     ]
    },
    {
     "data": {
      "image/png": "[encoded data removed]",
      "text/plain": [
       "<Figure size 1152x360 with 2 Axes>"
      ]
     },
     "metadata": {
      "needs_background": "light"
     },
     "output_type": "display_data"
    },
    {
     "data": {
      "image/png": "[encoded data removed]",
      "text/plain": [
       "<Figure size 1152x360 with 2 Axes>"
      ]
     },
     "metadata": {
      "needs_background": "light"
     },
     "output_type": "display_data"
    },
    {
     "data": {
      "image/png": "[encoded data removed]",
      "text/plain": [
       "<Figure size 1512x360 with 4 Axes>"
      ]
     },
     "metadata": {
      "needs_background": "light"
     },
     "output_type": "display_data"
    }
   ],
   "source": [
    "### Coding Cell 029\n",
    "\n",
    "# Importing the classes, modules and libraries necessary for this cell\n",
    "from sklearn.metrics import accuracy_score, zero_one_loss\n",
    "\n",
    "# Storing the Final Prediction Accuracies of Training and Validation Datsets\n",
    "train_accuracy_ELU = hist_with_ELU.history[acc_key][-1]\n",
    "val_accuracy_ELU = hist_with_ELU.history['val_' + acc_key][-1]\n",
    "train_accuracy_ELU_percentage = round((train_accuracy_ELU * 100.00), 1)\n",
    "val_accuracy_ELU_percentage = round((val_accuracy_ELU * 100.00), 1)\n",
    "\n",
    "# Storing the Final Loss Scores of Training and Validation Datsets\n",
    "train_loss_ELU = hist_with_ELU.history['loss'][-1]\n",
    "val_loss_ELU = hist_with_ELU.history['val_loss'][-1]\n",
    "train_loss_ELU_percentage = round((train_loss_ELU * 100.00), 1)\n",
    "val_loss_ELU_percentage = round((val_loss_ELU * 100.00), 1)\n",
    "\n",
    "# Creating vectors which would contain Epoch-Wise Accuracy and Loss Scores\n",
    "train_accuracy_vector_fractions_ELU = np.asarray(hist_with_ELU.history[acc_key]).reshape(-1,1)\n",
    "train_accuracy_vector_ELU = train_accuracy_vector_fractions_ELU * 100.00  # TrainAccuracyVector\n",
    "train_losses_vector_fractions_ELU = np.asarray(hist_with_ELU.history['loss']).reshape(-1,1)\n",
    "train_losses_vector_ELU = train_losses_vector_fractions_ELU * 100.00  # TrainLossVector\n",
    "val_accuracy_vector_fractions_ELU = np.asarray(hist_with_ELU.history['val_' + acc_key]).reshape(-1,1)\n",
    "val_accuracy_vector_ELU = val_accuracy_vector_fractions_ELU * 100.00 #ValAccuracyVector \n",
    "val_losses_vector_fractions_ELU = np.asarray(hist_with_ELU.history['val_loss']).reshape(-1,1)\n",
    "val_losses_vector_ELU = val_losses_vector_fractions_ELU * 100.00 #ValLossVector\n",
    "\n",
    "# Plotting Epoch-Wise Prediction Accuracy Scores of Training and Validation Datasets\n",
    "datasets_trainval_ELU = [\"Training Dataset (ANN with ELU)\",\n",
    "                         \"Validation Dataset (ANN with ELU)\"\n",
    "                        ]\n",
    "plot_accloss_vs_epochs(train_accloss_vector_NN = train_accuracy_vector_ELU,\n",
    "                       val_accloss_vector_NN = val_accuracy_vector_ELU,\n",
    "                       epochs = n_of_epochs,\n",
    "                       datasets = datasets_trainval_ELU,\n",
    "                       isLoss = False) \n",
    "\n",
    "# Plotting Epoch-Wise Loss Scores of Training and Validation Datasets\n",
    "plot_accloss_vs_epochs(train_accloss_vector_NN = train_losses_vector_ELU,\n",
    "                       val_accloss_vector_NN = val_losses_vector_ELU,\n",
    "                       epochs = n_of_epochs,\n",
    "                       datasets = datasets_trainval_ELU,\n",
    "                       isLoss = True) \n",
    "\n",
    "# Plotting the Confusion Matrices of Training and Validation Datasets\n",
    "plot_custom_confusion_matrix(cm1 = cm_train_ELU,\n",
    "                             cm2 = cm_val_ELU,\n",
    "                             label_names = label_names,\n",
    "                             datasets = datasets_trainval_ELU)\n",
    "\n",
    "# Displaying Final Prediction Accuracies of Training and Validation Datasets\n",
    "np.set_printoptions(precision=2)\n",
    "print('--- Accuracy Scores ---')\n",
    "print('Prediction Accuracy Score of Training Dataset for ANN with ELU = ', \n",
    "      train_accuracy_ELU_percentage, \n",
    "      '%')   \n",
    "print('Prediction Accuracy Score of Validation Dataset for ANN with ELU = ', \n",
    "      val_accuracy_ELU_percentage, \n",
    "      '%')  \n",
    "print('-----------------------')\n",
    "print('\\n')"
   ]
  },
  {
   "cell_type": "markdown",
   "metadata": {
    "id": "txnoCBId_gYS"
   },
   "source": [
    "The model trained on ANN with `elu` as activation function for the hidden-layer shows better results than those for the model trained with `relu` as the activation function for the hidden-layer.  \n",
    "1. **Accuracy Scores**: Accuracy score ($\\approx 92.0\\%$) of the training dataset and the accuracy score ($\\approx 91.3\\%$) of validation datasets are almost close to each other, indicating that the model can predict hitherto-unseen data fairly well. \n",
    "2. **Average Losses**: Average loss for training dataset decreases with increase in the number of epochs and so does the average loss for the validation dataset. There are some zig-zag patterns for the validation dataset but the overall loss is on the decline. "
   ]
  },
  {
   "cell_type": "markdown",
   "metadata": {
    "id": "aYBn-OFDQk4F"
   },
   "source": [
    "#### Defining the Hypothesis Space (Model Structure) for ANN with TANH as Activation Function"
   ]
  },
  {
   "cell_type": "markdown",
   "metadata": {
    "id": "l6XGxviSUBM7"
   },
   "source": [
    "Finally, here is the model with the third of the $3$ different hidden-layer activation functions. The activation function for the hidden-layer is `tanh`. \n",
    "\n",
    "The hidden-layer, as usual, contains $64$ neurons. The output-layer consists of two neurons --- one for `no` and the other for `yes`. The activation function for the output-layer is `sigmoid`, as usual. "
   ]
  },
  {
   "cell_type": "code",
   "execution_count": 30,
   "metadata": {
    "colab": {
     "base_uri": "https://localhost:8080/"
    },
    "executionInfo": {
     "elapsed": 96652,
     "status": "ok",
     "timestamp": 1605706597363,
     "user": {
      "displayName": "Subhadyuti Sahoo",
      "photoUrl": "https://lh3.googleusercontent.com/a-/AOh14Gggzyrj_lwU3EpxrDzpC0PCj0Tq81bUp15E8Iwr=s64",
      "userId": "09318899015774862526"
     },
     "user_tz": -330
    },
    "id": "JYNIletjQsAt",
    "outputId": "70bcb504-e85b-4d9c-cf88-802c6ea4b53c"
   },
   "outputs": [
    {
     "name": "stdout",
     "output_type": "stream",
     "text": [
      "Model: \"sequential_2\"\n",
      "_________________________________________________________________\n",
      "Layer (type)                 Output Shape              Param #   \n",
      "=================================================================\n",
      "dense_4 (Dense)              (None, 64)                4096      \n",
      "_________________________________________________________________\n",
      "dense_5 (Dense)              (None, 2)                 130       \n",
      "=================================================================\n",
      "Total params: 4,226\n",
      "Trainable params: 4,226\n",
      "Non-trainable params: 0\n",
      "_________________________________________________________________\n"
     ]
    }
   ],
   "source": [
    "### Coding Cell 030\n",
    "\n",
    "# Importing the classes, modules and libraries necessary for this cell\n",
    "from tensorflow.keras import Sequential \n",
    "from tensorflow.keras.layers import Dense\n",
    "\n",
    "# Creating an object \"model\" that represents an ANN\n",
    "model_with_TANH = Sequential()       \n",
    "\n",
    "# Defining an input layer with 63 nodes (equal to X_train.shape[1]) and \n",
    "# adding a hidden layer with 64 (closest 2^n to 63) neurons\n",
    "neurons = 64\n",
    "model_with_TANH.add(Dense(units = neurons, \n",
    "                          \n",
    "                          # Activation function for hidden layer\n",
    "                          activation = 'tanh',   \n",
    "                          \n",
    "                          input_shape = (d,)\n",
    "                         )\n",
    "                   )\n",
    "\n",
    "# Adding output later consisting of 2 neurons (equal to the number of unique labels)\n",
    "model_with_TANH.add(Dense(units = 2, \n",
    "                          \n",
    "                          # Activation function for output layer\n",
    "                          activation='sigmoid'   \n",
    "                         )\n",
    "                   ) \n",
    "\n",
    "# Displaying the summary of the model for ANN\n",
    "model_with_TANH.summary()"
   ]
  },
  {
   "cell_type": "markdown",
   "metadata": {
    "id": "FHFpNfLvQ6fu"
   },
   "source": [
    "#### Graphically Displaying the ANN Hypothesis Space of the Model with TANH as Activation Function"
   ]
  },
  {
   "cell_type": "markdown",
   "metadata": {
    "id": "G0KjJtoDUeDb"
   },
   "source": [
    "Once again, the `plot_model()` function is used in order to graphically display the summary of the model created with `tanh` activation function for the hidden-layer."
   ]
  },
  {
   "cell_type": "code",
   "execution_count": 31,
   "metadata": {
    "colab": {
     "base_uri": "https://localhost:8080/",
     "height": 312
    },
    "executionInfo": {
     "elapsed": 96652,
     "status": "ok",
     "timestamp": 1605706597367,
     "user": {
      "displayName": "Subhadyuti Sahoo",
      "photoUrl": "https://lh3.googleusercontent.com/a-/AOh14Gggzyrj_lwU3EpxrDzpC0PCj0Tq81bUp15E8Iwr=s64",
      "userId": "09318899015774862526"
     },
     "user_tz": -330
    },
    "id": "BzJ5WskZRQHa",
    "outputId": "ed055d5e-847c-44fd-f935-9ea13b7ac4cf"
   },
   "outputs": [
    {
     "data": {
      "image/png": "[encoded data removed]",
      "text/plain": [
       "<IPython.core.display.Image object>"
      ]
     },
     "execution_count": 31,
     "metadata": {},
     "output_type": "execute_result"
    }
   ],
   "source": [
    "### Coding Cell 031\n",
    "\n",
    "# Graphically displaying the ANN hypothesis space\n",
    "tensorflow.keras.utils.plot_model(model_with_TANH,\n",
    "                                  to_file = 'model_with_TANH.png',\n",
    "                                  show_shapes = True, \n",
    "                                  show_layer_names = True\n",
    "                                 )"
   ]
  },
  {
   "cell_type": "markdown",
   "metadata": {
    "id": "YxatHpk-RXzT"
   },
   "source": [
    "#### Choosing Optimizer, Loss Function and Metrics for the Model with TANH as Activation Function"
   ]
  },
  {
   "cell_type": "markdown",
   "metadata": {
    "id": "bhssfaD-UyVm"
   },
   "source": [
    "Just like the previous two models with `relu` and `elu` as activation functions for the hidden-layers, for the model created with `tanh` as activation function for the hidden-layer, `RMSprop()` has been chosen as the specific SGD variant, `binary_crossentropy` is chosen as the loss function (since there are only $2$ categories) and `accuracy` as the metric. "
   ]
  },
  {
   "cell_type": "code",
   "execution_count": 32,
   "metadata": {
    "id": "XDYTLfgpRf3_"
   },
   "outputs": [],
   "source": [
    "### Coding Cell 032\n",
    "\n",
    "# Selecting Optimizer, Loss Function and Measure of quality\n",
    "model_with_TANH.compile(\n",
    "                        # Optimizer\n",
    "                        optimizer=tensorflow.keras.optimizers.RMSprop(),   \n",
    "    \n",
    "                        # Loss function\n",
    "                        loss='binary_crossentropy',\n",
    "    \n",
    "                        # Measure of quality\n",
    "                        metrics=['accuracy']   \n",
    "                       )   "
   ]
  },
  {
   "cell_type": "markdown",
   "metadata": {
    "id": "pVG3Y67jRowZ"
   },
   "source": [
    "#### Training the Artificial Neural Network (ANN) Model on the Training Dataset with TANH as Activation Function"
   ]
  },
  {
   "cell_type": "markdown",
   "metadata": {
    "id": "-q5KfQdEVHZU"
   },
   "source": [
    "The ANN with `tanh` as the activation function for the hidden-layer is now ready to be trained on the training dataset `X_train_NN`. As usual, the `batch_size` is kept at $32$, `epochs` at $15$ and `X_val_NN` and `y_val_NN` are passed as `validation_data`. "
   ]
  },
  {
   "cell_type": "code",
   "execution_count": 33,
   "metadata": {
    "id": "OvWpEQJtR3W6"
   },
   "outputs": [],
   "source": [
    "### Coding Cell 033\n",
    "\n",
    "# Fitting the model\n",
    "hist_with_TANH = model_with_TANH.fit(x = X_train_NN, \n",
    "                                     y = y_train_NN, \n",
    "                                     batch_size = 32, \n",
    "                                     epochs = n_of_epochs,\n",
    "                                     verbose = 0,\n",
    "                                     validation_data = (X_val_NN, y_val_NN))"
   ]
  },
  {
   "cell_type": "markdown",
   "metadata": {
    "id": "h6gbDzJySEsT"
   },
   "source": [
    "#### Predicting Labels of Training and Validation Datasets trained on ANN Model with TANH as Activation Function"
   ]
  },
  {
   "cell_type": "markdown",
   "metadata": {
    "id": "L6cQ8plHVU7u"
   },
   "source": [
    "The labels for the training as well as the validation datasets are predicted in the following coding cell. The predicted labels will also be compared with the true labels of the datasets in order to find out the accuracy of the ANN with `tanh` as the activation function for the hidden-layer."
   ]
  },
  {
   "cell_type": "code",
   "execution_count": 34,
   "metadata": {
    "id": "ExXyMO0YSMnO"
   },
   "outputs": [],
   "source": [
    "### Coding Cell 034\n",
    "\n",
    "# Importing the classes, modules and libraries necessary for this cell\n",
    "from sklearn.preprocessing import OneHotEncoder\n",
    "\n",
    "# Predicting the Labels of Training Dataset trained on ANN Model with ELU \n",
    "y_train_TANH_pred_encoded = model_with_TANH.predict(X_train, batch_size = 32)\n",
    "y_train_TANH_pred = enc.inverse_transform(y_train_TANH_pred_encoded)                     \n",
    "\n",
    "# Predicting the Labels of Validation Dataset trained on ANN Model \n",
    "y_val_TANH_pred_encoded = model_with_TANH.predict(X_val, batch_size = 32)                    \n",
    "y_val_TANH_pred = enc.inverse_transform(y_val_TANH_pred_encoded)             "
   ]
  },
  {
   "cell_type": "markdown",
   "metadata": {
    "id": "tet8rwqzSh8N"
   },
   "source": [
    "#### Computing the Confusion Matrices of Training and Validation Datasets trained on ANN Model with TANH as Activation Function"
   ]
  },
  {
   "cell_type": "markdown",
   "metadata": {
    "id": "TRPuYe4ZewlN"
   },
   "source": [
    "The following coding cell computes the confusion matrix between the true labels and the predicted labels provided by the model trained on ANN with `tanh` as the activation function for the hidden-layer. "
   ]
  },
  {
   "cell_type": "code",
   "execution_count": 35,
   "metadata": {
    "id": "JmCWl0cJSs6L"
   },
   "outputs": [],
   "source": [
    "### Coding Cell 035\n",
    "\n",
    "# Evaluating Confusion Matrices of Training and Validation Datasets\n",
    "cm_train_TANH = compute_confusion_matrix(yTrue = y_train,\n",
    "                                         yPred = y_train_TANH_pred)\n",
    "cm_val_TANH = compute_confusion_matrix(yTrue = y_val,\n",
    "                                       yPred = y_val_TANH_pred)"
   ]
  },
  {
   "cell_type": "markdown",
   "metadata": {
    "id": "-ondKIlfS2hb"
   },
   "source": [
    "#### Displaying Overall Accuracy Scores, Visualizing Prediction Accuracy v/s Epoch, Visualizing Losses v/s Epoch and Visualizing Confusion Matrices of Training and Validation Datasets trained on ANN Model with TANH as Activation Function\n"
   ]
  },
  {
   "cell_type": "markdown",
   "metadata": {
    "id": "dJNxqvJdhKD9"
   },
   "source": [
    "The overall accuracy scores, average losses and confusion matrices for both the training as well as the validation datasets are visualized via codes in the following coding cell."
   ]
  },
  {
   "cell_type": "code",
   "execution_count": 36,
   "metadata": {
    "cellView": "form",
    "colab": {
     "base_uri": "https://localhost:8080/",
     "height": 1000
    },
    "executionInfo": {
     "elapsed": 116193,
     "status": "ok",
     "timestamp": 1605706616926,
     "user": {
      "displayName": "Subhadyuti Sahoo",
      "photoUrl": "https://lh3.googleusercontent.com/a-/AOh14Gggzyrj_lwU3EpxrDzpC0PCj0Tq81bUp15E8Iwr=s64",
      "userId": "09318899015774862526"
     },
     "user_tz": -330
    },
    "id": "sL48vQiTS8Br",
    "outputId": "4308ed8c-af00-462e-aee0-904afd9c7fbc"
   },
   "outputs": [
    {
     "name": "stdout",
     "output_type": "stream",
     "text": [
      "--- Accuracy Scores ---\n",
      "Prediction Accuracy Score of Training Dataset for ANN with TANH =  92.6 %\n",
      "Prediction Accuracy Score of Validation Dataset for ANN with TANH =  90.9 %\n",
      "-----------------------\n",
      "\n",
      "\n"
     ]
    },
    {
     "data": {
      "image/png": "[encoded data removed]",
      "text/plain": [
       "<Figure size 1152x360 with 2 Axes>"
      ]
     },
     "metadata": {
      "needs_background": "light"
     },
     "output_type": "display_data"
    },
    {
     "data": {
      "image/png": "[encoded data removed]",
      "text/plain": [
       "<Figure size 1152x360 with 2 Axes>"
      ]
     },
     "metadata": {
      "needs_background": "light"
     },
     "output_type": "display_data"
    },
    {
     "data": {
      "image/png": "[encoded data removed]",
      "text/plain": [
       "<Figure size 1512x360 with 4 Axes>"
      ]
     },
     "metadata": {
      "needs_background": "light"
     },
     "output_type": "display_data"
    }
   ],
   "source": [
    "### Coding Cell 036\n",
    "\n",
    "# Importing the classes, modules and libraries necessary for this cell\n",
    "from sklearn.metrics import accuracy_score, zero_one_loss\n",
    "\n",
    "# Storing the Final Prediction Accuracies of Training and Validation Datsets\n",
    "train_accuracy_TANH = hist_with_TANH.history[acc_key][-1]\n",
    "val_accuracy_TANH = hist_with_TANH.history['val_' + acc_key][-1]\n",
    "train_accuracy_TANH_percentage = round((train_accuracy_TANH * 100.00), 1)\n",
    "val_accuracy_TANH_percentage = round((val_accuracy_TANH * 100.00), 1)\n",
    "\n",
    "# Storing the Final Loss Scores of Training and Validation Datsets\n",
    "train_loss_TANH = hist_with_TANH.history['loss'][-1]\n",
    "val_loss_TANH = hist_with_TANH.history['val_loss'][-1]\n",
    "train_loss_TANH_percentage = round((train_loss_TANH * 100.00), 1)\n",
    "val_loss_TANH_percentage = round((val_loss_TANH * 100.00), 1)\n",
    "\n",
    "# Creating vectors which would contain Epoch-Wise Accuracy and Loss Scores\n",
    "train_accuracy_vector_fractions_TANH = np.asarray(hist_with_TANH.history[acc_key]).reshape(-1,1)\n",
    "train_accuracy_vector_TANH = train_accuracy_vector_fractions_TANH * 100.00  # TrainAccuracyVector\n",
    "train_losses_vector_fractions_TANH = np.asarray(hist_with_TANH.history['loss']).reshape(-1,1)\n",
    "train_losses_vector_TANH = train_losses_vector_fractions_TANH * 100.00  # TrainLossVector\n",
    "val_accuracy_vector_fractions_TANH = np.asarray(hist_with_TANH.history['val_' + acc_key]).reshape(-1,1)\n",
    "val_accuracy_vector_TANH = val_accuracy_vector_fractions_TANH * 100.00 #ValAccuracyVector \n",
    "val_losses_vector_fractions_TANH = np.asarray(hist_with_TANH.history['val_loss']).reshape(-1,1)\n",
    "val_losses_vector_TANH = val_losses_vector_fractions_TANH * 100.00 #ValLossVector\n",
    "\n",
    "# Plotting Epoch-Wise Prediction Accuracy Scores of Training and Validation Datasets\n",
    "datasets_trainval_TANH = [\"Training Dataset (ANN with TANH)\",\n",
    "                          \"Validation Dataset (ANN with TANH)\"\n",
    "                         ]\n",
    "plot_accloss_vs_epochs(train_accloss_vector_NN = train_accuracy_vector_TANH,\n",
    "                       val_accloss_vector_NN = val_accuracy_vector_TANH,\n",
    "                       epochs = n_of_epochs,\n",
    "                       datasets = datasets_trainval_TANH,\n",
    "                       isLoss = False) \n",
    "\n",
    "# Plotting Epoch-Wise Loss Scores of Training and Validation Datasets\n",
    "plot_accloss_vs_epochs(train_accloss_vector_NN = train_losses_vector_TANH,\n",
    "                       val_accloss_vector_NN = val_losses_vector_TANH,\n",
    "                       epochs = n_of_epochs,\n",
    "                       datasets = datasets_trainval_TANH,\n",
    "                       isLoss = True) \n",
    "\n",
    "# Plotting the Confusion Matrices of Training and Validation Datasets\n",
    "plot_custom_confusion_matrix(cm1 = cm_train_TANH,\n",
    "                             cm2 = cm_val_TANH,\n",
    "                             label_names = label_names,\n",
    "                             datasets = datasets_trainval_TANH)\n",
    "\n",
    "# Displaying Final Prediction Accuracies of Training and Validation Datasets\n",
    "np.set_printoptions(precision=2)\n",
    "print('--- Accuracy Scores ---')\n",
    "print('Prediction Accuracy Score of Training Dataset for ANN with TANH = ', \n",
    "      train_accuracy_TANH_percentage, \n",
    "      '%')   \n",
    "print('Prediction Accuracy Score of Validation Dataset for ANN with TANH = ', \n",
    "      val_accuracy_TANH_percentage, \n",
    "      '%')  \n",
    "print('-----------------------')\n",
    "print('\\n')"
   ]
  },
  {
   "cell_type": "markdown",
   "metadata": {
    "id": "edpwOBHqh7sv"
   },
   "source": [
    "The model trained on ANN with `tanh` as activation function for the hidden-layer shows results similar to the ones show by the model trained with `elu` as the activation function for the hidden-layer.  \n",
    "1. **Accuracy Scores**: Accuracy score ($\\approx 92.6\\%$) of the training dataset is slightly higher than the accuracy score ($\\approx 90.9\\%$) of the validation dataset. \n",
    "2. **Average Losses**: Average losses for both for training and validation datasets decrease with increase in the number of epochs. Saw-tooth like patterns are present for the validation dataset but, then again, the overall average loss is on the decline. "
   ]
  },
  {
   "cell_type": "markdown",
   "metadata": {
    "id": "WF3Hcac8_8fy"
   },
   "source": [
    "## Results"
   ]
  },
  {
   "cell_type": "markdown",
   "metadata": {
    "id": "eRW3F07D-zM2"
   },
   "source": [
    "### Evaluating Test Dataset Results with Artifical Neural Network"
   ]
  },
  {
   "cell_type": "markdown",
   "metadata": {
    "id": "tbSXEJq2j_SO"
   },
   "source": [
    "Now is the time to predict the labels of the test dataset with all the $3$ models trained on ANN with $3$ different (`relu`, `elu`, `tanh`) activation functions for the hidden-layers. "
   ]
  },
  {
   "cell_type": "code",
   "execution_count": 37,
   "metadata": {
    "id": "AQ3jPlxF-6A6"
   },
   "outputs": [],
   "source": [
    "#### Coding Cell 037\n",
    "\n",
    "# Importing the classes, modules and libraries necessary for this cell\n",
    "from sklearn.preprocessing import OneHotEncoder\n",
    "from sklearn.metrics import accuracy_score, zero_one_loss, confusion_matrix\n",
    "\n",
    "# Evaluating the accuracy and loss for Test Dataset with RELU\n",
    "test_loss_RELU, test_accuracy_RELU = model_with_RELU.evaluate(X_test_NN, \n",
    "                                                              y_test_NN, \n",
    "                                                              verbose = 0)\n",
    "test_accuracy_RELU_percentage = round((test_accuracy_RELU * 100.00), 1)\n",
    "\n",
    "# Evaluating the accuracy and loss for Test Dataset with ELU\n",
    "test_loss_ELU, test_accuracy_ELU = model_with_ELU.evaluate(X_test_NN, \n",
    "                                                           y_test_NN, \n",
    "                                                           verbose = 0)\n",
    "test_accuracy_ELU_percentage = round((test_accuracy_ELU * 100.00), 1)\n",
    "\n",
    "# Evaluating the accuracy and loss for Test Dataset with TANH\n",
    "test_loss_TANH, test_accuracy_TANH = model_with_TANH.evaluate(X_test_NN, \n",
    "                                                             y_test_NN, \n",
    "                                                             verbose = 0)\n",
    "test_accuracy_TANH_percentage = round((test_accuracy_TANH * 100.00), 1)"
   ]
  },
  {
   "cell_type": "markdown",
   "metadata": {
    "id": "g5ghtI12vAsH"
   },
   "source": [
    "### Graphical Representation of Prediction Accuracy Scores for Different Activation Functions"
   ]
  },
  {
   "cell_type": "markdown",
   "metadata": {
    "id": "Cyq3m1Q1kbeg"
   },
   "source": [
    "The prediction accuracy scores for all the $3$ datasets (`training`, `validation` and `test`) are being compared for all the $3$ models trained on ANN with $3$ different (`relu`, `elu`, `tanh`) activation functions for the hidden-layers. "
   ]
  },
  {
   "cell_type": "code",
   "execution_count": 38,
   "metadata": {
    "colab": {
     "base_uri": "https://localhost:8080/",
     "height": 402
    },
    "executionInfo": {
     "elapsed": 117791,
     "status": "ok",
     "timestamp": 1605706618531,
     "user": {
      "displayName": "Subhadyuti Sahoo",
      "photoUrl": "https://lh3.googleusercontent.com/a-/AOh14Gggzyrj_lwU3EpxrDzpC0PCj0Tq81bUp15E8Iwr=s64",
      "userId": "09318899015774862526"
     },
     "user_tz": -330
    },
    "id": "slV2foUpvV5M",
    "outputId": "900efec2-fffa-4638-bdb3-3267997c1edf"
   },
   "outputs": [
    {
     "data": {
      "image/png": "[encoded data removed]",
      "text/plain": [
       "<Figure size 864x360 with 1 Axes>"
      ]
     },
     "metadata": {
      "needs_background": "light"
     },
     "output_type": "display_data"
    }
   ],
   "source": [
    "# Coding Cell 038\n",
    "\n",
    "# Defining the names of rows for pandas DataFrame\n",
    "indices = ['ANN with RELU', 'ANN with ELU', 'ANN with TANH']\n",
    "\n",
    "# Creating a pandas DataFrame with Prediction Accuracy Scores of all Models\n",
    "train_accuracies = [round(train_accuracy_RELU_percentage,1), \n",
    "                    round(train_accuracy_ELU_percentage,1),  \n",
    "                    round(train_accuracy_TANH_percentage,1)]\n",
    "val_accuracies = [round(val_accuracy_RELU_percentage,1), \n",
    "                  round(val_accuracy_ELU_percentage,1),\n",
    "                  round(val_accuracy_TANH_percentage,1)]\n",
    "test_accuracies = [round(test_accuracy_RELU_percentage,1), \n",
    "                   round(test_accuracy_ELU_percentage,1),\n",
    "                   round(test_accuracy_TANH_percentage,1)]\n",
    "df_acc = pd.DataFrame({'Training': train_accuracies,\n",
    "                       'Validation': val_accuracies,\n",
    "                       'Test': test_accuracies}, \n",
    "                      index = indices) \n",
    "\n",
    "# Plotting the bar-plots of Accuracy and Loss Scores\n",
    "fig, ax1 = plt.subplots(figsize=(12,5), nrows=1, ncols=1)\n",
    "df_acc.plot(ax = ax1, \n",
    "            kind = 'bar', \n",
    "            rot = 45)\n",
    "ax1.set_ylabel('Prediction Accuracy (%)')\n",
    "ax1.set_ylim(85, 96)\n",
    "ax1.set_yticks((85, 90, 95))\n",
    "ax1.set_title(\"Bar Plot of Accuracy Scores for ANNs \\n with Different Activation Functions\")\n",
    "for p1 in ax1.patches:\n",
    "  ax1.annotate(str(p1.get_height()), (p1.get_x() * 1.005, p1.get_height() * 1.002))\n",
    "plt.show()"
   ]
  },
  {
   "cell_type": "markdown",
   "metadata": {
    "id": "G2qWMRbFqRoC"
   },
   "source": [
    "The target set for the prediction accuracy score at the beginning of this investigation was $85\\%$. Not only have all the models with $3$ different activation functions for the hidden-layer successfully surpassed that target score, but all the scores ($\\approx 91.7\\%$) are also quite close to each other.  \n",
    "\n",
    "**The model trained on ANN with `elu` as the activation function for the hidden-layer** is going to be the main choice, because that is the one where the **prediction accuracy scores are quite close to each other for all the $3$ different datasets (`training`, `validation` and `test`)**. It means that this model **does not suffer too much from overfitting** and **can exhibit the same level of consistency** when it comes to predicting the labels for hitherto-unseen data. \n",
    "\n",
    "The other $2$ models suffer from overfitting. If there were more datapoints, perhaps the those $2$ models with `relu` and `tanh` activation functions for the hidden-layer could have provided higher accuracy scores and better consistency. "
   ]
  },
  {
   "cell_type": "markdown",
   "metadata": {
    "id": "gzg7wtlSJG_U"
   },
   "source": [
    "## Conclusion"
   ]
  },
  {
   "cell_type": "markdown",
   "metadata": {
    "id": "4H_tjZtqJPSq"
   },
   "source": [
    "In this mini-investigation, evaluation of the performances of Artificial Neural Network (ANN) with $3$ different (`relu`, `elu` and `tanh`) activation functions for the hidden-layer for a bank telemarketing dataset, obtained from [UCI Machine Learning Repository](https://archive.ics.uci.edu/ml/datasets/bank+marketing), is conducted. The goal was to predict if a particular customer would be interested in opening a fixed-deposit bank account following rigorous bank telemarketing campaigns by banks during the global pandemic. Previous investigations with machine learning algorithms, such as Logistic Regression, Decision Trees and Support Vector Machines, could yield an accuracy score of only $76\\%$[[1]](https://www.sciencedirect.com/science/article/abs/pii/S016792361400061X). \n",
    "\n",
    "Current investigation of the same dataset trained on ANN with $3$ different activation functions for the hidden-layer produced a prediction accuracy score of approximately $91.7\\%$, which is way higher than the target score ($85\\%$) defined for the prediction accuracy for this mini-investigation. This implies that now bank employees will be much more confident when it comes to ringing up the customers during bank telemarketing campaigns. \n",
    "\n",
    "The model trained on ANN with `elu` as the activation function has been ultimately chosen as the one to go with, because \n",
    "- the prediction accuracy scores for any hitherto-unseen data are almost close to the prediction accuracy scores for the data which is already known to it\n",
    "- the average losses for both the training and validation datasets kept on decreasing with increase in the number of epochs \n",
    "\n",
    "The other two models either showed overfitting or the performance of the model was not satisfactory on unseen data. \n",
    "\n",
    "Since the dataset contained only $41188$ datapoints and $20$ features, going too much into the depth, even with ANN, was not quite possible. More number of datapoints would have been helpful in minimizing the overfitting of the models with `relu` and `tanh` as activation functions for the hidden-layer and could have also increased the prediction accuracy scores of all the $3$ models. These data were first recorded between $2008$ and $2013$ following a global recession in the year $2008$. If similar types of data are also collected in future, following the end of this pandemic, not only would the dataset be enhanced but it would also open a window of opportunity for further investigations with Deep Neural Nets in the near and distant future.   \n"
   ]
  }
 ],
 "metadata": {
  "accelerator": "GPU",
  "colab": {
   "collapsed_sections": [],
   "name": "StudentProjectDLwP_601289_Sahoo.ipynb",
   "provenance": []
  },
  "kernelspec": {
   "display_name": "Python 3",
   "language": "python",
   "name": "python3"
  },
  "language_info": {
   "codemirror_mode": {
    "name": "ipython",
    "version": 3
   },
   "file_extension": ".py",
   "mimetype": "text/x-python",
   "name": "python",
   "nbconvert_exporter": "python",
   "pygments_lexer": "ipython3",
   "version": "3.8.5"
  }
 },
 "nbformat": 4,
 "nbformat_minor": 1
}
